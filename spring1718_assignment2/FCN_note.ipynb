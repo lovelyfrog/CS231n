{
 "cells": [
  {
   "cell_type": "code",
   "execution_count": 1,
   "metadata": {},
   "outputs": [],
   "source": [
    "import numpy as np"
   ]
  },
  {
   "cell_type": "code",
   "execution_count": 3,
   "metadata": {},
   "outputs": [],
   "source": [
    "x = np.random.randn(10,2,3)"
   ]
  },
  {
   "cell_type": "code",
   "execution_count": 5,
   "metadata": {},
   "outputs": [
    {
     "data": {
      "text/plain": [
       "(2, 3)"
      ]
     },
     "execution_count": 5,
     "metadata": {},
     "output_type": "execute_result"
    }
   ],
   "source": [
    "x.shape[1:]"
   ]
  },
  {
   "cell_type": "code",
   "execution_count": 16,
   "metadata": {},
   "outputs": [],
   "source": [
    "x = x.reshape(10,-1)"
   ]
  },
  {
   "cell_type": "code",
   "execution_count": 17,
   "metadata": {},
   "outputs": [],
   "source": [
    "x = x.reshape(10,*(2,3))"
   ]
  },
  {
   "cell_type": "code",
   "execution_count": 18,
   "metadata": {},
   "outputs": [
    {
     "data": {
      "text/plain": [
       "(10, 2, 3)"
      ]
     },
     "execution_count": 18,
     "metadata": {},
     "output_type": "execute_result"
    }
   ],
   "source": [
    "x.shape"
   ]
  },
  {
   "cell_type": "code",
   "execution_count": 19,
   "metadata": {},
   "outputs": [],
   "source": [
    "x1 = x.reshape(10,-1)"
   ]
  },
  {
   "cell_type": "markdown",
   "metadata": {},
   "source": [
    "np.reshape 里面放入元组和可变参数都是可以的"
   ]
  },
  {
   "cell_type": "code",
   "execution_count": 22,
   "metadata": {
    "scrolled": true
   },
   "outputs": [
    {
     "data": {
      "text/plain": [
       "array([[[ 1.16355633, -1.14270653, -1.5962603 ],\n",
       "        [ 1.83545534, -0.41744029,  0.49805692]],\n",
       "\n",
       "       [[ 0.15898846,  0.87544075,  0.66782293],\n",
       "        [-0.65711178,  1.07917876,  1.09125561]],\n",
       "\n",
       "       [[ 1.86427372, -1.44111844,  0.36647511],\n",
       "        [ 0.1874978 ,  0.35081033,  1.28344651]],\n",
       "\n",
       "       [[-2.01693729, -0.41178631, -0.32084189],\n",
       "        [-3.26480627, -1.64008068, -1.17343964]],\n",
       "\n",
       "       [[ 0.33527016, -0.42687782, -0.77957401],\n",
       "        [ 0.20729242, -1.17905799,  0.56016239]],\n",
       "\n",
       "       [[ 0.99278802,  2.10907123, -0.32496645],\n",
       "        [ 0.2980767 ,  0.06977528,  0.34052132]],\n",
       "\n",
       "       [[-1.16707949,  1.94728107,  0.55367752],\n",
       "        [-2.49466206,  0.33595195,  0.46809242]],\n",
       "\n",
       "       [[ 0.71409052,  2.0399487 , -0.51749603],\n",
       "        [-0.73017862, -0.0500847 ,  0.89634794]],\n",
       "\n",
       "       [[-0.58740515, -1.48387298, -0.09575121],\n",
       "        [-1.23537814, -0.53138809,  0.59052755]],\n",
       "\n",
       "       [[-0.22722741,  0.38000986,  0.42521672],\n",
       "        [ 1.73464085, -1.78420609, -0.59320658]]])"
      ]
     },
     "execution_count": 22,
     "metadata": {},
     "output_type": "execute_result"
    }
   ],
   "source": [
    "x1.reshape((10,2,3))"
   ]
  },
  {
   "cell_type": "code",
   "execution_count": 23,
   "metadata": {
    "scrolled": true
   },
   "outputs": [
    {
     "data": {
      "text/plain": [
       "array([[[ 1.16355633, -1.14270653, -1.5962603 ],\n",
       "        [ 1.83545534, -0.41744029,  0.49805692]],\n",
       "\n",
       "       [[ 0.15898846,  0.87544075,  0.66782293],\n",
       "        [-0.65711178,  1.07917876,  1.09125561]],\n",
       "\n",
       "       [[ 1.86427372, -1.44111844,  0.36647511],\n",
       "        [ 0.1874978 ,  0.35081033,  1.28344651]],\n",
       "\n",
       "       [[-2.01693729, -0.41178631, -0.32084189],\n",
       "        [-3.26480627, -1.64008068, -1.17343964]],\n",
       "\n",
       "       [[ 0.33527016, -0.42687782, -0.77957401],\n",
       "        [ 0.20729242, -1.17905799,  0.56016239]],\n",
       "\n",
       "       [[ 0.99278802,  2.10907123, -0.32496645],\n",
       "        [ 0.2980767 ,  0.06977528,  0.34052132]],\n",
       "\n",
       "       [[-1.16707949,  1.94728107,  0.55367752],\n",
       "        [-2.49466206,  0.33595195,  0.46809242]],\n",
       "\n",
       "       [[ 0.71409052,  2.0399487 , -0.51749603],\n",
       "        [-0.73017862, -0.0500847 ,  0.89634794]],\n",
       "\n",
       "       [[-0.58740515, -1.48387298, -0.09575121],\n",
       "        [-1.23537814, -0.53138809,  0.59052755]],\n",
       "\n",
       "       [[-0.22722741,  0.38000986,  0.42521672],\n",
       "        [ 1.73464085, -1.78420609, -0.59320658]]])"
      ]
     },
     "execution_count": 23,
     "metadata": {},
     "output_type": "execute_result"
    }
   ],
   "source": [
    "x1.reshape(10,2,3)"
   ]
  },
  {
   "cell_type": "markdown",
   "metadata": {},
   "source": [
    "#### np.newaxis"
   ]
  },
  {
   "cell_type": "markdown",
   "metadata": {},
   "source": [
    "np.newaxis 为数组增加新的轴"
   ]
  },
  {
   "cell_type": "code",
   "execution_count": 24,
   "metadata": {},
   "outputs": [],
   "source": [
    "a = np.array([0,1,2])"
   ]
  },
  {
   "cell_type": "code",
   "execution_count": 25,
   "metadata": {},
   "outputs": [
    {
     "data": {
      "text/plain": [
       "array([[0],\n",
       "       [1],\n",
       "       [2]])"
      ]
     },
     "execution_count": 25,
     "metadata": {},
     "output_type": "execute_result"
    }
   ],
   "source": [
    "a[:, np.newaxis]"
   ]
  },
  {
   "cell_type": "code",
   "execution_count": 27,
   "metadata": {},
   "outputs": [
    {
     "data": {
      "text/plain": [
       "array([[0],\n",
       "       [1],\n",
       "       [2]])"
      ]
     },
     "execution_count": 27,
     "metadata": {},
     "output_type": "execute_result"
    }
   ],
   "source": [
    "a.reshape(a.shape[0],1)   #与上面等价"
   ]
  },
  {
   "cell_type": "code",
   "execution_count": 31,
   "metadata": {},
   "outputs": [
    {
     "data": {
      "text/plain": [
       "array([[ 0.19028015,  0.95199976, -1.5040801 , -0.7545782 ,  1.00108311],\n",
       "       [ 0.02807678,  0.01692596, -1.04645017, -2.08559105,  1.30764376],\n",
       "       [-1.95533239, -1.23184101,  1.16158469, -1.10277944,  0.44253108],\n",
       "       [-0.82741087, -1.11251124,  1.34193804, -1.01382451,  0.19353043],\n",
       "       [ 0.12449098, -0.56386969, -2.00799946,  0.53475839,  0.00598757]])"
      ]
     },
     "execution_count": 31,
     "metadata": {},
     "output_type": "execute_result"
    }
   ],
   "source": [
    "np.random.randn(5,5)"
   ]
  },
  {
   "cell_type": "markdown",
   "metadata": {},
   "source": [
    "#### dict.pop()"
   ]
  },
  {
   "cell_type": "markdown",
   "metadata": {},
   "source": [
    "dict.pop(object,name),如果 dict中没有 object 的话,返回 name,如果有 object的话则返回object的值"
   ]
  },
  {
   "cell_type": "code",
   "execution_count": 51,
   "metadata": {},
   "outputs": [
    {
     "data": {
      "text/plain": [
       "{'a': 1, 'b': 'sgd', 'c': None, 'e': 'adam'}"
      ]
     },
     "execution_count": 51,
     "metadata": {},
     "output_type": "execute_result"
    }
   ],
   "source": [
    "dict1= {'a':1,'b':'sgd','c':None,'e':'adam'}\n",
    "dict1"
   ]
  },
  {
   "cell_type": "code",
   "execution_count": 52,
   "metadata": {},
   "outputs": [
    {
     "data": {
      "text/plain": [
       "1"
      ]
     },
     "execution_count": 52,
     "metadata": {},
     "output_type": "execute_result"
    }
   ],
   "source": [
    "a = dict1.pop('a', 1)\n",
    "a"
   ]
  },
  {
   "cell_type": "code",
   "execution_count": 53,
   "metadata": {},
   "outputs": [
    {
     "data": {
      "text/plain": [
       "{'b': 'sgd', 'c': None, 'e': 'adam'}"
      ]
     },
     "execution_count": 53,
     "metadata": {},
     "output_type": "execute_result"
    }
   ],
   "source": [
    "dict1"
   ]
  },
  {
   "cell_type": "code",
   "execution_count": 54,
   "metadata": {},
   "outputs": [
    {
     "data": {
      "text/plain": [
       "'sgd'"
      ]
     },
     "execution_count": 54,
     "metadata": {},
     "output_type": "execute_result"
    }
   ],
   "source": [
    "b = dict1.pop('b', 'sgd')\n",
    "b"
   ]
  },
  {
   "cell_type": "code",
   "execution_count": 55,
   "metadata": {},
   "outputs": [
    {
     "data": {
      "text/plain": [
       "100"
      ]
     },
     "execution_count": 55,
     "metadata": {},
     "output_type": "execute_result"
    }
   ],
   "source": [
    "d = dict1.pop('d', 100)\n",
    "d"
   ]
  },
  {
   "cell_type": "code",
   "execution_count": 56,
   "metadata": {},
   "outputs": [
    {
     "data": {
      "text/plain": [
       "'adam'"
      ]
     },
     "execution_count": 56,
     "metadata": {},
     "output_type": "execute_result"
    }
   ],
   "source": [
    "e = dict1.pop('e', 'sgd')\n",
    "e"
   ]
  },
  {
   "cell_type": "markdown",
   "metadata": {},
   "source": [
    "#### hasattr, getattr"
   ]
  },
  {
   "cell_type": "markdown",
   "metadata": {},
   "source": [
    "hasattr用来判断对象是否具有某个属性, getattr 获取对象的某个属性"
   ]
  },
  {
   "cell_type": "code",
   "execution_count": 40,
   "metadata": {},
   "outputs": [],
   "source": [
    "from cs231n import optim"
   ]
  },
  {
   "cell_type": "code",
   "execution_count": 41,
   "metadata": {},
   "outputs": [
    {
     "data": {
      "text/plain": [
       "True"
      ]
     },
     "execution_count": 41,
     "metadata": {},
     "output_type": "execute_result"
    }
   ],
   "source": [
    "hasattr(optim, 'sgd')"
   ]
  },
  {
   "cell_type": "code",
   "execution_count": 57,
   "metadata": {},
   "outputs": [
    {
     "data": {
      "text/plain": [
       "<function cs231n.optim.sgd(w, dw, config=None)>"
      ]
     },
     "execution_count": 57,
     "metadata": {},
     "output_type": "execute_result"
    }
   ],
   "source": [
    "sgd = getattr(optim, 'sgd')\n",
    "sgd"
   ]
  },
  {
   "cell_type": "code",
   "execution_count": 45,
   "metadata": {},
   "outputs": [
    {
     "data": {
      "text/plain": [
       "True"
      ]
     },
     "execution_count": 45,
     "metadata": {},
     "output_type": "execute_result"
    }
   ],
   "source": [
    "li = ['a', 'b']\n",
    "hasattr(li, 'pop')"
   ]
  },
  {
   "cell_type": "markdown",
   "metadata": {},
   "source": [
    "#### np.hstack"
   ]
  },
  {
   "cell_type": "markdown",
   "metadata": {},
   "source": [
    "np.hstack() 将一个数组在水平方向展开"
   ]
  },
  {
   "cell_type": "code",
   "execution_count": 71,
   "metadata": {},
   "outputs": [
    {
     "data": {
      "text/plain": [
       "[array([2, 0, 2]), array([2, 2, 0])]"
      ]
     },
     "execution_count": 71,
     "metadata": {},
     "output_type": "execute_result"
    }
   ],
   "source": [
    "y_pred = []\n",
    "scores1 = np.array([[1,2,3],[2,1,0],[2,3,4]])\n",
    "y_pred.append(np.argmax(scores1, axis=1))\n",
    "scores2 = np.array([[1,2,3],[3,1,4],[5,3,4]])\n",
    "y_pred.append(np.argmax(scores2, axis=1))\n",
    "y_pred"
   ]
  },
  {
   "cell_type": "code",
   "execution_count": 72,
   "metadata": {},
   "outputs": [
    {
     "data": {
      "text/plain": [
       "False"
      ]
     },
     "execution_count": 72,
     "metadata": {},
     "output_type": "execute_result"
    }
   ],
   "source": [
    "label = [2,1,2,0,1,3]\n",
    "y_pred == label"
   ]
  },
  {
   "cell_type": "code",
   "execution_count": 73,
   "metadata": {},
   "outputs": [
    {
     "data": {
      "text/plain": [
       "array([2, 0, 2, 2, 2, 0])"
      ]
     },
     "execution_count": 73,
     "metadata": {},
     "output_type": "execute_result"
    }
   ],
   "source": [
    "y_pred = np.hstack(y_pred)\n",
    "y_pred"
   ]
  },
  {
   "cell_type": "code",
   "execution_count": 61,
   "metadata": {},
   "outputs": [
    {
     "data": {
      "text/plain": [
       "array([1, 2, 3])"
      ]
     },
     "execution_count": 61,
     "metadata": {},
     "output_type": "execute_result"
    }
   ],
   "source": [
    "a = [[1],[2],[3]]\n",
    "np.hstack(a)"
   ]
  },
  {
   "cell_type": "code",
   "execution_count": 79,
   "metadata": {},
   "outputs": [
    {
     "data": {
      "text/plain": [
       "[5, 4, 3, 2, 1, 0]"
      ]
     },
     "execution_count": 79,
     "metadata": {},
     "output_type": "execute_result"
    }
   ],
   "source": [
    "list(range(5,-1,-1))"
   ]
  },
  {
   "cell_type": "markdown",
   "metadata": {},
   "source": [
    "一行写不下时可以用 \\ 换行"
   ]
  },
  {
   "cell_type": "code",
   "execution_count": 83,
   "metadata": {},
   "outputs": [
    {
     "data": {
      "text/plain": [
       "10"
      ]
     },
     "execution_count": 83,
     "metadata": {},
     "output_type": "execute_result"
    }
   ],
   "source": [
    "1 + 2 + 3 \\\n",
    "+ 4"
   ]
  },
  {
   "cell_type": "code",
   "execution_count": 86,
   "metadata": {},
   "outputs": [
    {
     "data": {
      "text/plain": [
       "0.03391164991562635"
      ]
     },
     "execution_count": 86,
     "metadata": {},
     "output_type": "execute_result"
    }
   ],
   "source": [
    "np.sqrt(0.9*0.1*0.1**2 + 0.1 * 0.05**2)"
   ]
  },
  {
   "cell_type": "code",
   "execution_count": 87,
   "metadata": {},
   "outputs": [
    {
     "data": {
      "text/plain": [
       "0.33911649915626346"
      ]
     },
     "execution_count": 87,
     "metadata": {},
     "output_type": "execute_result"
    }
   ],
   "source": [
    "np.sqrt(0.9*0.1*1 + 0.1 * 0.5**2)"
   ]
  }
 ],
 "metadata": {
  "kernelspec": {
   "display_name": "Python 3",
   "language": "python",
   "name": "python3"
  },
  "language_info": {
   "codemirror_mode": {
    "name": "ipython",
    "version": 3
   },
   "file_extension": ".py",
   "mimetype": "text/x-python",
   "name": "python",
   "nbconvert_exporter": "python",
   "pygments_lexer": "ipython3",
   "version": "3.6.5"
  }
 },
 "nbformat": 4,
 "nbformat_minor": 2
}
