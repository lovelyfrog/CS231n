{
 "cells": [
  {
   "cell_type": "markdown",
   "metadata": {},
   "source": [
    "# Fully-Connected Neural Nets\n",
    "In the previous homework you implemented a fully-connected two-layer neural network on CIFAR-10. The implementation was simple but not very modular since the loss and gradient were computed in a single monolithic function. This is manageable for a simple two-layer network, but would become impractical as we move to bigger models. Ideally we want to build networks using a more modular design so that we can implement different layer types in isolation and then snap them together into models with different architectures.\n",
    "\n",
    "In this exercise we will implement fully-connected networks using a more modular approach. For each layer we will implement a `forward` and a `backward` function. The `forward` function will receive inputs, weights, and other parameters and will return both an output and a `cache` object storing data needed for the backward pass, like this:\n",
    "\n",
    "```python\n",
    "def layer_forward(x, w):\n",
    "  \"\"\" Receive inputs x and weights w \"\"\"\n",
    "  # Do some computations ...\n",
    "  z = # ... some intermediate value\n",
    "  # Do some more computations ...\n",
    "  out = # the output\n",
    "   \n",
    "  cache = (x, w, z, out) # Values we need to compute gradients\n",
    "   \n",
    "  return out, cache\n",
    "```\n",
    "\n",
    "The backward pass will receive upstream derivatives and the `cache` object, and will return gradients with respect to the inputs and weights, like this:\n",
    "\n",
    "```python\n",
    "def layer_backward(dout, cache):\n",
    "  \"\"\"\n",
    "  Receive dout (derivative of loss with respect to outputs) and cache,\n",
    "  and compute derivative with respect to inputs.\n",
    "  \"\"\"\n",
    "  # Unpack cache values\n",
    "  x, w, z, out = cache\n",
    "  \n",
    "  # Use values in cache to compute derivatives\n",
    "  dx = # Derivative of loss with respect to x\n",
    "  dw = # Derivative of loss with respect to w\n",
    "  \n",
    "  return dx, dw\n",
    "```\n",
    "\n",
    "After implementing a bunch of layers this way, we will be able to easily combine them to build classifiers with different architectures.\n",
    "\n",
    "In addition to implementing fully-connected networks of arbitrary depth, we will also explore different update rules for optimization, and introduce Dropout as a regularizer and Batch/Layer Normalization as a tool to more efficiently optimize deep networks.\n",
    "  "
   ]
  },
  {
   "cell_type": "code",
   "execution_count": 1,
   "metadata": {},
   "outputs": [],
   "source": [
    "# As usual, a bit of setup\n",
    "from __future__ import print_function\n",
    "import time\n",
    "import numpy as np\n",
    "import matplotlib.pyplot as plt\n",
    "from cs231n.classifiers.fc_net import *\n",
    "from cs231n.data_utils import get_CIFAR10_data\n",
    "from cs231n.gradient_check import eval_numerical_gradient, eval_numerical_gradient_array\n",
    "from cs231n.solver import Solver\n",
    "\n",
    "%matplotlib inline\n",
    "plt.rcParams['figure.figsize'] = (10.0, 8.0) # set default size of plots\n",
    "plt.rcParams['image.interpolation'] = 'nearest'\n",
    "plt.rcParams['image.cmap'] = 'gray'\n",
    "\n",
    "# for auto-reloading external modules\n",
    "# see http://stackoverflow.com/questions/1907993/autoreload-of-modules-in-ipython\n",
    "%load_ext autoreload\n",
    "%autoreload 2\n",
    "\n",
    "def rel_error(x, y):\n",
    "  \"\"\" returns relative error \"\"\"\n",
    "  return np.max(np.abs(x - y) / (np.maximum(1e-8, np.abs(x) + np.abs(y))))"
   ]
  },
  {
   "cell_type": "code",
   "execution_count": 2,
   "metadata": {},
   "outputs": [
    {
     "name": "stdout",
     "output_type": "stream",
     "text": [
      "('X_train: ', (49000, 3, 32, 32))\n",
      "('y_train: ', (49000,))\n",
      "('X_val: ', (1000, 3, 32, 32))\n",
      "('y_val: ', (1000,))\n",
      "('X_test: ', (1000, 3, 32, 32))\n",
      "('y_test: ', (1000,))\n"
     ]
    }
   ],
   "source": [
    "# Load the (preprocessed) CIFAR10 data.\n",
    "\n",
    "data = get_CIFAR10_data()\n",
    "for k, v in list(data.items()):\n",
    "  print(('%s: ' % k, v.shape))"
   ]
  },
  {
   "cell_type": "code",
   "execution_count": 36,
   "metadata": {},
   "outputs": [],
   "source": [
    "import copy"
   ]
  },
  {
   "cell_type": "code",
   "execution_count": 5,
   "metadata": {},
   "outputs": [],
   "source": [
    "import matplotlib.pyplot as plt"
   ]
  },
  {
   "cell_type": "code",
   "execution_count": 9,
   "metadata": {},
   "outputs": [],
   "source": [
    "from cs231n.data_utils import load_CIFAR10\n",
    "cifar10_dir = 'cs231n/datasets/cifar-10-batches-py'\n",
    "X_train, y_train, X_test, y_test = load_CIFAR10(cifar10_dir)"
   ]
  },
  {
   "cell_type": "code",
   "execution_count": 11,
   "metadata": {},
   "outputs": [],
   "source": [
    "x1 = X_train[0]"
   ]
  },
  {
   "cell_type": "code",
   "execution_count": 12,
   "metadata": {},
   "outputs": [
    {
     "data": {
      "text/plain": [
       "(32, 32, 3)"
      ]
     },
     "execution_count": 12,
     "metadata": {},
     "output_type": "execute_result"
    }
   ],
   "source": [
    "x1.shape"
   ]
  },
  {
   "cell_type": "code",
   "execution_count": 13,
   "metadata": {},
   "outputs": [
    {
     "data": {
      "text/plain": [
       "array([[ 59.,  62.,  63., ..., 123.,  92.,  72.]])"
      ]
     },
     "execution_count": 13,
     "metadata": {},
     "output_type": "execute_result"
    }
   ],
   "source": [
    "np.reshape(x1, (1,-1))"
   ]
  },
  {
   "cell_type": "code",
   "execution_count": 15,
   "metadata": {
    "scrolled": true
   },
   "outputs": [
    {
     "data": {
      "text/plain": [
       "array([[[ 59.,  62.,  63.],\n",
       "        [ 43.,  46.,  45.],\n",
       "        [ 50.,  48.,  43.],\n",
       "        ...,\n",
       "        [158., 132., 108.],\n",
       "        [152., 125., 102.],\n",
       "        [148., 124., 103.]],\n",
       "\n",
       "       [[ 16.,  20.,  20.],\n",
       "        [  0.,   0.,   0.],\n",
       "        [ 18.,   8.,   0.],\n",
       "        ...,\n",
       "        [123.,  88.,  55.],\n",
       "        [119.,  83.,  50.],\n",
       "        [122.,  87.,  57.]],\n",
       "\n",
       "       [[ 25.,  24.,  21.],\n",
       "        [ 16.,   7.,   0.],\n",
       "        [ 49.,  27.,   8.],\n",
       "        ...,\n",
       "        [118.,  84.,  50.],\n",
       "        [120.,  84.,  50.],\n",
       "        [109.,  73.,  42.]],\n",
       "\n",
       "       ...,\n",
       "\n",
       "       [[208., 170.,  96.],\n",
       "        [201., 153.,  34.],\n",
       "        [198., 161.,  26.],\n",
       "        ...,\n",
       "        [160., 133.,  70.],\n",
       "        [ 56.,  31.,   7.],\n",
       "        [ 53.,  34.,  20.]],\n",
       "\n",
       "       [[180., 139.,  96.],\n",
       "        [173., 123.,  42.],\n",
       "        [186., 144.,  30.],\n",
       "        ...,\n",
       "        [184., 148.,  94.],\n",
       "        [ 97.,  62.,  34.],\n",
       "        [ 83.,  53.,  34.]],\n",
       "\n",
       "       [[177., 144., 116.],\n",
       "        [168., 129.,  94.],\n",
       "        [179., 142.,  87.],\n",
       "        ...,\n",
       "        [216., 184., 140.],\n",
       "        [151., 118.,  84.],\n",
       "        [123.,  92.,  72.]]])"
      ]
     },
     "execution_count": 15,
     "metadata": {},
     "output_type": "execute_result"
    }
   ],
   "source": [
    "x1"
   ]
  },
  {
   "cell_type": "code",
   "execution_count": 17,
   "metadata": {
    "scrolled": true
   },
   "outputs": [
    {
     "data": {
      "text/plain": [
       "array([[[ 59.,  62.,  63.],\n",
       "        [ 43.,  46.,  45.],\n",
       "        [ 50.,  48.,  43.],\n",
       "        ...,\n",
       "        [158., 132., 108.],\n",
       "        [152., 125., 102.],\n",
       "        [148., 124., 103.]],\n",
       "\n",
       "       [[ 16.,  20.,  20.],\n",
       "        [  0.,   0.,   0.],\n",
       "        [ 18.,   8.,   0.],\n",
       "        ...,\n",
       "        [123.,  88.,  55.],\n",
       "        [119.,  83.,  50.],\n",
       "        [122.,  87.,  57.]],\n",
       "\n",
       "       [[ 25.,  24.,  21.],\n",
       "        [ 16.,   7.,   0.],\n",
       "        [ 49.,  27.,   8.],\n",
       "        ...,\n",
       "        [118.,  84.,  50.],\n",
       "        [120.,  84.,  50.],\n",
       "        [109.,  73.,  42.]],\n",
       "\n",
       "       ...,\n",
       "\n",
       "       [[208., 170.,  96.],\n",
       "        [201., 153.,  34.],\n",
       "        [198., 161.,  26.],\n",
       "        ...,\n",
       "        [160., 133.,  70.],\n",
       "        [ 56.,  31.,   7.],\n",
       "        [ 53.,  34.,  20.]],\n",
       "\n",
       "       [[180., 139.,  96.],\n",
       "        [173., 123.,  42.],\n",
       "        [186., 144.,  30.],\n",
       "        ...,\n",
       "        [184., 148.,  94.],\n",
       "        [ 97.,  62.,  34.],\n",
       "        [ 83.,  53.,  34.]],\n",
       "\n",
       "       [[177., 144., 116.],\n",
       "        [168., 129.,  94.],\n",
       "        [179., 142.,  87.],\n",
       "        ...,\n",
       "        [216., 184., 140.],\n",
       "        [151., 118.,  84.],\n",
       "        [123.,  92.,  72.]]])"
      ]
     },
     "execution_count": 17,
     "metadata": {},
     "output_type": "execute_result"
    }
   ],
   "source": [
    "x1.reshape(1,-1)\n",
    "x1\n",
    "# 从上面可以发现 不管是 np.reshape(x1,...) 还是 x1.reshape()  都对 x1 没有影响"
   ]
  },
  {
   "cell_type": "code",
   "execution_count": 18,
   "metadata": {},
   "outputs": [
    {
     "data": {
      "text/plain": [
       "array([[[ 59.,  62.,  63., ...,  92.,  76., 175.],\n",
       "        [129., 106., 142., ..., 132., 171., 134.],\n",
       "        [ 99., 165., 115., ..., 123.,  92.,  72.]]])"
      ]
     },
     "execution_count": 18,
     "metadata": {},
     "output_type": "execute_result"
    }
   ],
   "source": [
    "x1.reshape(1,3,-1)"
   ]
  },
  {
   "cell_type": "code",
   "execution_count": 22,
   "metadata": {
    "scrolled": true
   },
   "outputs": [
    {
     "data": {
      "text/plain": [
       "array([[ 59.,  62.,  63.],\n",
       "       [ 43.,  46.,  45.],\n",
       "       [ 50.,  48.,  43.],\n",
       "       [ 68.,  54.,  42.],\n",
       "       [ 98.,  73.,  52.],\n",
       "       [119.,  91.,  63.],\n",
       "       [139., 107.,  75.],\n",
       "       [145., 110.,  80.],\n",
       "       [149., 117.,  89.],\n",
       "       [149., 120.,  93.],\n",
       "       [131., 103.,  77.],\n",
       "       [125.,  99.,  76.],\n",
       "       [142., 115.,  91.],\n",
       "       [144., 112.,  86.],\n",
       "       [137., 105.,  79.],\n",
       "       [129.,  97.,  71.],\n",
       "       [137., 106.,  79.],\n",
       "       [134., 106.,  76.],\n",
       "       [124.,  97.,  64.],\n",
       "       [139., 113.,  78.],\n",
       "       [139., 112.,  75.],\n",
       "       [133., 105.,  69.],\n",
       "       [136., 105.,  74.],\n",
       "       [139., 108.,  77.],\n",
       "       [152., 120.,  89.],\n",
       "       [163., 131., 100.],\n",
       "       [168., 136., 108.],\n",
       "       [159., 129., 102.],\n",
       "       [158., 130., 104.],\n",
       "       [158., 132., 108.],\n",
       "       [152., 125., 102.],\n",
       "       [148., 124., 103.]])"
      ]
     },
     "execution_count": 22,
     "metadata": {},
     "output_type": "execute_result"
    }
   ],
   "source": [
    "x1[0]"
   ]
  },
  {
   "cell_type": "code",
   "execution_count": 23,
   "metadata": {},
   "outputs": [
    {
     "data": {
      "text/plain": [
       "array([[[ 59.,  62.,  63., ..., 123.,  92.,  72.]]])"
      ]
     },
     "execution_count": 23,
     "metadata": {},
     "output_type": "execute_result"
    }
   ],
   "source": [
    "x1.reshape(1,1,-1)"
   ]
  },
  {
   "cell_type": "code",
   "execution_count": 24,
   "metadata": {},
   "outputs": [
    {
     "data": {
      "text/plain": [
       "array([[ 59.,  62.,  63., ..., 123.,  92.,  72.]])"
      ]
     },
     "execution_count": 24,
     "metadata": {},
     "output_type": "execute_result"
    }
   ],
   "source": [
    "x1.reshape(1,-1)"
   ]
  },
  {
   "cell_type": "code",
   "execution_count": 25,
   "metadata": {},
   "outputs": [
    {
     "data": {
      "text/plain": [
       "array([ 59.,  62.,  63., ..., 123.,  92.,  72.])"
      ]
     },
     "execution_count": 25,
     "metadata": {},
     "output_type": "execute_result"
    }
   ],
   "source": [
    "x1.reshape(-1)"
   ]
  },
  {
   "cell_type": "code",
   "execution_count": 26,
   "metadata": {},
   "outputs": [
    {
     "data": {
      "text/plain": [
       "array([[ 59.,  43.,  50., ..., 158., 152., 148.],\n",
       "       [ 16.,   0.,  18., ..., 123., 119., 122.],\n",
       "       [ 25.,  16.,  49., ..., 118., 120., 109.],\n",
       "       ...,\n",
       "       [208., 201., 198., ..., 160.,  56.,  53.],\n",
       "       [180., 173., 186., ..., 184.,  97.,  83.],\n",
       "       [177., 168., 179., ..., 216., 151., 123.]])"
      ]
     },
     "execution_count": 26,
     "metadata": {},
     "output_type": "execute_result"
    }
   ],
   "source": [
    "x1[:,:,0]"
   ]
  },
  {
   "cell_type": "code",
   "execution_count": 90,
   "metadata": {},
   "outputs": [],
   "source": [
    "X_train = np.reshape(X_train, (X_train.shape[0],-1))\n"
   ]
  },
  {
   "cell_type": "code",
   "execution_count": 145,
   "metadata": {},
   "outputs": [],
   "source": [
    "X = X_train.copy()"
   ]
  },
  {
   "cell_type": "code",
   "execution_count": 146,
   "metadata": {},
   "outputs": [],
   "source": [
    "X_mean = np.mean(X,axis=0)\n",
    "X -= X_mean"
   ]
  },
  {
   "cell_type": "code",
   "execution_count": 147,
   "metadata": {},
   "outputs": [],
   "source": [
    "cov = np.dot(X.T, X) / X.shape[0]"
   ]
  },
  {
   "cell_type": "code",
   "execution_count": 148,
   "metadata": {},
   "outputs": [],
   "source": [
    "U,S,V = np.linalg.svd(cov)"
   ]
  },
  {
   "cell_type": "code",
   "execution_count": 149,
   "metadata": {},
   "outputs": [],
   "source": [
    "X += X_mean"
   ]
  },
  {
   "cell_type": "code",
   "execution_count": 171,
   "metadata": {},
   "outputs": [],
   "source": [
    "X_rot = np.dot(X[:100], U[:,:10])"
   ]
  },
  {
   "cell_type": "code",
   "execution_count": 172,
   "metadata": {},
   "outputs": [
    {
     "data": {
      "text/plain": [
       "(100, 3072)"
      ]
     },
     "execution_count": 172,
     "metadata": {},
     "output_type": "execute_result"
    }
   ],
   "source": [
    "X1 = np.dot(X_rot[:100],U.T[:10,:])\n",
    "X1.shape"
   ]
  },
  {
   "cell_type": "code",
   "execution_count": 173,
   "metadata": {},
   "outputs": [],
   "source": [
    "x1 = X1[2].reshape(32,32,3).copy()"
   ]
  },
  {
   "cell_type": "code",
   "execution_count": 174,
   "metadata": {},
   "outputs": [
    {
     "data": {
      "text/plain": [
       "<matplotlib.image.AxesImage at 0x108b1e6d8>"
      ]
     },
     "execution_count": 174,
     "metadata": {},
     "output_type": "execute_result"
    },
    {
     "data": {
      "image/png": "[encoded data removed]",
      "text/plain": [
       "<Figure size 432x288 with 1 Axes>"
      ]
     },
     "metadata": {},
     "output_type": "display_data"
    }
   ],
   "source": [
    "plt.imshow(x1.astype('uint8'))"
   ]
  },
  {
   "cell_type": "code",
   "execution_count": 129,
   "metadata": {},
   "outputs": [],
   "source": [
    "x0 = X_train[2].reshape(32,32,3)"
   ]
  },
  {
   "cell_type": "code",
   "execution_count": 130,
   "metadata": {
    "scrolled": true
   },
   "outputs": [
    {
     "data": {
      "text/plain": [
       "<matplotlib.image.AxesImage at 0x1085d1978>"
      ]
     },
     "execution_count": 130,
     "metadata": {},
     "output_type": "execute_result"
    },
    {
     "data": {
      "image/png": "[encoded data removed]",
      "text/plain": [
       "<Figure size 432x288 with 1 Axes>"
      ]
     },
     "metadata": {},
     "output_type": "display_data"
    }
   ],
   "source": [
    "plt.imshow(x0.astype('uint8'))"
   ]
  },
  {
   "cell_type": "code",
   "execution_count": 4,
   "metadata": {},
   "outputs": [
    {
     "name": "stdout",
     "output_type": "stream",
     "text": [
      "Testing affine_forward function:\n",
      "difference:  9.7698500479884e-10\n"
     ]
    }
   ],
   "source": [
    "# Test the affine_forward function\n",
    "\n",
    "num_inputs = 2\n",
    "input_shape = (4, 5, 6)\n",
    "output_dim = 3\n",
    "\n",
    "input_size = num_inputs * np.prod(input_shape)\n",
    "weight_size = output_dim * np.prod(input_shape)\n",
    "\n",
    "x = np.linspace(-0.1, 0.5, num=input_size).reshape(num_inputs, *input_shape)\n",
    "w = np.linspace(-0.2, 0.3, num=weight_size).reshape(np.prod(input_shape), output_dim)\n",
    "b = np.linspace(-0.3, 0.1, num=output_dim)\n",
    "\n",
    "out, _ = affine_forward(x, w, b)\n",
    "correct_out = np.array([[ 1.49834967,  1.70660132,  1.91485297],\n",
    "                        [ 3.25553199,  3.5141327,   3.77273342]])\n",
    "\n",
    "# Compare your output with ours. The error should be around e-9 or less.\n",
    "print('Testing affine_forward function:')\n",
    "print('difference: ', rel_error(out, correct_out))"
   ]
  },
  {
   "cell_type": "markdown",
   "metadata": {},
   "source": [
    "# Affine layer: backward\n",
    "Now implement the `affine_backward` function and test your implementation using numeric gradient checking."
   ]
  },
  {
   "cell_type": "code",
   "execution_count": 32,
   "metadata": {},
   "outputs": [
    {
     "name": "stdout",
     "output_type": "stream",
     "text": [
      "Testing affine_backward function:\n",
      "dx error:  6.986348504372948e-11\n",
      "dw error:  9.904023583987626e-11\n",
      "db error:  7.736978834487815e-12\n"
     ]
    }
   ],
   "source": [
    "# Test the affine_backward function\n",
    "np.random.seed(231)\n",
    "x = np.random.randn(10, 2, 3)\n",
    "w = np.random.randn(6, 5)\n",
    "b = np.random.randn(5)\n",
    "dout = np.random.randn(10, 5)\n",
    "\n",
    "dx_num = eval_numerical_gradient_array(lambda x: affine_forward(x, w, b)[0], x, dout)\n",
    "dw_num = eval_numerical_gradient_array(lambda w: affine_forward(x, w, b)[0], w, dout)\n",
    "db_num = eval_numerical_gradient_array(lambda b: affine_forward(x, w, b)[0], b, dout)\n",
    "\n",
    "_, cache = affine_forward(x, w, b)\n",
    "dx, dw, db = affine_backward(dout, cache)\n",
    "\n",
    "# The error should be around e-10 or less\n",
    "print('Testing affine_backward function:')\n",
    "print('dx error: ', rel_error(dx_num, dx))\n",
    "print('dw error: ', rel_error(dw_num, dw))\n",
    "print('db error: ', rel_error(db_num, db))"
   ]
  },
  {
   "cell_type": "markdown",
   "metadata": {},
   "source": [
    "# ReLU activation: forward\n",
    "Implement the forward pass for the ReLU activation function in the `relu_forward` function and test your implementation using the following:"
   ]
  },
  {
   "cell_type": "code",
   "execution_count": 33,
   "metadata": {},
   "outputs": [
    {
     "name": "stdout",
     "output_type": "stream",
     "text": [
      "Testing relu_forward function:\n",
      "difference:  4.999999798022158e-08\n"
     ]
    }
   ],
   "source": [
    "# Test the relu_forward function\n",
    "\n",
    "x = np.linspace(-0.5, 0.5, num=12).reshape(3, 4)\n",
    "\n",
    "out, _ = relu_forward(x)\n",
    "correct_out = np.array([[ 0.,          0.,          0.,          0.,        ],\n",
    "                        [ 0.,          0.,          0.04545455,  0.13636364,],\n",
    "                        [ 0.22727273,  0.31818182,  0.40909091,  0.5,       ]])\n",
    "\n",
    "# Compare your output with ours. The error should be on the order of e-8\n",
    "print('Testing relu_forward function:')\n",
    "print('difference: ', rel_error(out, correct_out))"
   ]
  },
  {
   "cell_type": "markdown",
   "metadata": {},
   "source": [
    "# ReLU activation: backward\n",
    "Now implement the backward pass for the ReLU activation function in the `relu_backward` function and test your implementation using numeric gradient checking:"
   ]
  },
  {
   "cell_type": "code",
   "execution_count": 34,
   "metadata": {},
   "outputs": [
    {
     "name": "stdout",
     "output_type": "stream",
     "text": [
      "Testing relu_backward function:\n",
      "dx error:  3.2756349136310288e-12\n"
     ]
    }
   ],
   "source": [
    "np.random.seed(231)\n",
    "x = np.random.randn(10, 10)\n",
    "dout = np.random.randn(*x.shape)\n",
    "\n",
    "dx_num = eval_numerical_gradient_array(lambda x: relu_forward(x)[0], x, dout)\n",
    "\n",
    "_, cache = relu_forward(x)\n",
    "dx = relu_backward(dout, cache)\n",
    "\n",
    "# The error should be on the order of e-12\n",
    "print('Testing relu_backward function:')\n",
    "print('dx error: ', rel_error(dx_num, dx))"
   ]
  },
  {
   "cell_type": "markdown",
   "metadata": {},
   "source": [
    "## Inline Question 1: \n",
    "\n",
    "We've only asked you to implement ReLU, but there are a number of different activation functions that one could use in neural networks, each with its pros and cons. In particular, an issue commonly seen with activation functions is getting zero (or close to zero) gradient flow during backpropagation. Which of the following activation functions have this problem? If you consider these functions in the one dimensional case, what types of input would lead to this behaviour?\n",
    "1. Sigmoid\n",
    "2. ReLU\n",
    "3. Leaky ReLU"
   ]
  },
  {
   "cell_type": "markdown",
   "metadata": {},
   "source": [
    "## Answer:\n",
    "[sigmoid]\n"
   ]
  },
  {
   "cell_type": "markdown",
   "metadata": {},
   "source": [
    "# \"Sandwich\" layers\n",
    "There are some common patterns of layers that are frequently used in neural nets. For example, affine layers are frequently followed by a ReLU nonlinearity. To make these common patterns easy, we define several convenience layers in the file `cs231n/layer_utils.py`.\n",
    "\n",
    "For now take a look at the `affine_relu_forward` and `affine_relu_backward` functions, and run the following to numerically gradient check the backward pass:"
   ]
  },
  {
   "cell_type": "code",
   "execution_count": 35,
   "metadata": {},
   "outputs": [
    {
     "name": "stdout",
     "output_type": "stream",
     "text": [
      "Testing affine_relu_forward and affine_relu_backward:\n",
      "dx error:  3.143474713685874e-11\n",
      "dw error:  1.486123845798551e-10\n",
      "db error:  7.826724021458994e-12\n"
     ]
    }
   ],
   "source": [
    "from cs231n.layer_utils import affine_relu_forward, affine_relu_backward\n",
    "np.random.seed(231)\n",
    "x = np.random.randn(2, 3, 4)\n",
    "w = np.random.randn(12, 10)\n",
    "b = np.random.randn(10)\n",
    "dout = np.random.randn(2, 10)\n",
    "\n",
    "out, cache = affine_relu_forward(x, w, b)\n",
    "dx, dw, db = affine_relu_backward(dout, cache)\n",
    "\n",
    "dx_num = eval_numerical_gradient_array(lambda x: affine_relu_forward(x, w, b)[0], x, dout)\n",
    "dw_num = eval_numerical_gradient_array(lambda w: affine_relu_forward(x, w, b)[0], w, dout)\n",
    "db_num = eval_numerical_gradient_array(lambda b: affine_relu_forward(x, w, b)[0], b, dout)\n",
    "\n",
    "# Relative error should be around e-10 or less\n",
    "print('Testing affine_relu_forward and affine_relu_backward:')\n",
    "print('dx error: ', rel_error(dx_num, dx))\n",
    "print('dw error: ', rel_error(dw_num, dw))\n",
    "print('db error: ', rel_error(db_num, db))"
   ]
  },
  {
   "cell_type": "markdown",
   "metadata": {},
   "source": [
    "# Loss layers: Softmax and SVM\n",
    "You implemented these loss functions in the last assignment, so we'll give them to you for free here. You should still make sure you understand how they work by looking at the implementations in `cs231n/layers.py`.\n",
    "\n",
    "You can make sure that the implementations are correct by running the following:"
   ]
  },
  {
   "cell_type": "code",
   "execution_count": 36,
   "metadata": {},
   "outputs": [
    {
     "name": "stdout",
     "output_type": "stream",
     "text": [
      "Testing svm_loss:\n",
      "loss:  8.999602749096233\n",
      "dx error:  1.4021566006651672e-09\n",
      "\n",
      "Testing softmax_loss:\n",
      "loss:  2.302545844500738\n",
      "dx error:  9.384673161989355e-09\n"
     ]
    }
   ],
   "source": [
    "np.random.seed(231)\n",
    "num_classes, num_inputs = 10, 50\n",
    "x = 0.001 * np.random.randn(num_inputs, num_classes)\n",
    "y = np.random.randint(num_classes, size=num_inputs)\n",
    "\n",
    "dx_num = eval_numerical_gradient(lambda x: svm_loss(x, y)[0], x, verbose=False)\n",
    "loss, dx = svm_loss(x, y)\n",
    "\n",
    "# Test svm_loss function. Loss should be around 9 and dx error should be around the order of e-9\n",
    "print('Testing svm_loss:')\n",
    "print('loss: ', loss)\n",
    "print('dx error: ', rel_error(dx_num, dx))\n",
    "\n",
    "dx_num = eval_numerical_gradient(lambda x: softmax_loss(x, y)[0], x, verbose=False)\n",
    "loss, dx = softmax_loss(x, y)\n",
    "\n",
    "# Test softmax_loss function. Loss should be close to 2.3 and dx error should be around e-8\n",
    "print('\\nTesting softmax_loss:')\n",
    "print('loss: ', loss)\n",
    "print('dx error: ', rel_error(dx_num, dx))"
   ]
  },
  {
   "cell_type": "markdown",
   "metadata": {},
   "source": [
    "# Two-layer network\n",
    "In the previous assignment you implemented a two-layer neural network in a single monolithic class. Now that you have implemented modular versions of the necessary layers, you will reimplement the two layer network using these modular implementations.\n",
    "\n",
    "Open the file `cs231n/classifiers/fc_net.py` and complete the implementation of the `TwoLayerNet` class. This class will serve as a model for the other networks you will implement in this assignment, so read through it to make sure you understand the API. You can run the cell below to test your implementation."
   ]
  },
  {
   "cell_type": "code",
   "execution_count": 44,
   "metadata": {},
   "outputs": [
    {
     "name": "stdout",
     "output_type": "stream",
     "text": [
      "Testing initialization ... \n",
      "Testing test-time forward pass ... \n",
      "Testing training loss (no regularization)\n",
      "Running numeric gradient check with reg =  0.0\n",
      "W1 relative error: 2.13e-08\n",
      "W2 relative error: 3.31e-10\n",
      "b1 relative error: 8.37e-09\n",
      "b2 relative error: 2.53e-10\n",
      "Running numeric gradient check with reg =  0.7\n",
      "W1 relative error: 2.53e-07\n",
      "W2 relative error: 2.85e-08\n",
      "b1 relative error: 1.56e-08\n",
      "b2 relative error: 9.09e-10\n"
     ]
    }
   ],
   "source": [
    "np.random.seed(231)\n",
    "N, D, H, C = 3, 5, 50, 7\n",
    "X = np.random.randn(N, D)\n",
    "y = np.random.randint(C, size=N)\n",
    "\n",
    "std = 1e-3\n",
    "model = TwoLayerNet(input_dim=D, hidden_dim=H, num_classes=C, weight_scale=std)\n",
    "\n",
    "print('Testing initialization ... ')\n",
    "W1_std = abs(model.params['W1'].std() - std)\n",
    "b1 = model.params['b1']\n",
    "W2_std = abs(model.params['W2'].std() - std)\n",
    "b2 = model.params['b2']\n",
    "assert W1_std < std / 10, 'First layer weights do not seem right'\n",
    "assert np.all(b1 == 0), 'First layer biases do not seem right'\n",
    "assert W2_std < std / 10, 'Second layer weights do not seem right'\n",
    "assert np.all(b2 == 0), 'Second layer biases do not seem right'\n",
    "\n",
    "print('Testing test-time forward pass ... ')\n",
    "model.params['W1'] = np.linspace(-0.7, 0.3, num=D*H).reshape(D, H)\n",
    "model.params['b1'] = np.linspace(-0.1, 0.9, num=H)\n",
    "model.params['W2'] = np.linspace(-0.3, 0.4, num=H*C).reshape(H, C)\n",
    "model.params['b2'] = np.linspace(-0.9, 0.1, num=C)\n",
    "X = np.linspace(-5.5, 4.5, num=N*D).reshape(D, N).T\n",
    "scores = model.loss(X)\n",
    "correct_scores = np.asarray(\n",
    "  [[11.53165108,  12.2917344,   13.05181771,  13.81190102,  14.57198434, 15.33206765,  16.09215096],\n",
    "   [12.05769098,  12.74614105,  13.43459113,  14.1230412,   14.81149128, 15.49994135,  16.18839143],\n",
    "   [12.58373087,  13.20054771,  13.81736455,  14.43418138,  15.05099822, 15.66781506,  16.2846319 ]])\n",
    "scores_diff = np.abs(scores - correct_scores).sum()\n",
    "assert scores_diff < 1e-6, 'Problem with test-time forward pass'\n",
    "\n",
    "print('Testing training loss (no regularization)')\n",
    "y = np.asarray([0, 5, 1])\n",
    "loss, grads = model.loss(X, y)\n",
    "correct_loss = 3.4702243556\n",
    "assert abs(loss - correct_loss) < 1e-10, 'Problem with training-time loss'\n",
    "\n",
    "model.reg = 1.0\n",
    "loss, grads = model.loss(X, y)\n",
    "correct_loss = 26.5948426952\n",
    "assert abs(loss - correct_loss) < 1e-10, 'Problem with regularization loss'\n",
    "\n",
    "# Errors should be around e-7 or less\n",
    "for reg in [0.0, 0.7]:\n",
    "  print('Running numeric gradient check with reg = ', reg)\n",
    "  model.reg = reg\n",
    "  loss, grads = model.loss(X, y)\n",
    "\n",
    "  for name in sorted(grads):\n",
    "    f = lambda _: model.loss(X, y)[0]\n",
    "    grad_num = eval_numerical_gradient(f, model.params[name], verbose=False)\n",
    "    print('%s relative error: %.2e' % (name, rel_error(grad_num, grads[name])))"
   ]
  },
  {
   "cell_type": "code",
   "execution_count": 46,
   "metadata": {},
   "outputs": [
    {
     "data": {
      "text/plain": [
       "3.707050209523599e-05"
      ]
     },
     "execution_count": 46,
     "metadata": {},
     "output_type": "execute_result"
    }
   ],
   "source": [
    "W2_std"
   ]
  },
  {
   "cell_type": "markdown",
   "metadata": {},
   "source": [
    "# Solver\n",
    "In the previous assignment, the logic for training models was coupled to the models themselves. Following a more modular design, for this assignment we have split the logic for training models into a separate class.\n",
    "\n",
    "Open the file `cs231n/solver.py` and read through it to familiarize yourself with the API. After doing so, use a `Solver` instance to train a `TwoLayerNet` that achieves at least `50%` accuracy on the validation set."
   ]
  },
  {
   "cell_type": "code",
   "execution_count": 50,
   "metadata": {},
   "outputs": [
    {
     "name": "stdout",
     "output_type": "stream",
     "text": [
      "(Iteration 1 / 7640) loss: 2.303312\n",
      "(Epoch 0 / 20) train acc: 0.158000; val_acc: 0.125000\n",
      "(Iteration 101 / 7640) loss: 1.665270\n",
      "(Iteration 201 / 7640) loss: 1.553373\n",
      "(Iteration 301 / 7640) loss: 1.516179\n",
      "(Epoch 1 / 20) train acc: 0.448000; val_acc: 0.441000\n",
      "(Iteration 401 / 7640) loss: 1.420213\n",
      "(Iteration 501 / 7640) loss: 1.517758\n",
      "(Iteration 601 / 7640) loss: 1.542092\n",
      "(Iteration 701 / 7640) loss: 1.239623\n",
      "(Epoch 2 / 20) train acc: 0.469000; val_acc: 0.467000\n",
      "(Iteration 801 / 7640) loss: 1.345373\n",
      "(Iteration 901 / 7640) loss: 1.360878\n",
      "(Iteration 1001 / 7640) loss: 1.486752\n",
      "(Iteration 1101 / 7640) loss: 1.306787\n",
      "(Epoch 3 / 20) train acc: 0.547000; val_acc: 0.474000\n",
      "(Iteration 1201 / 7640) loss: 1.402787\n",
      "(Iteration 1301 / 7640) loss: 1.471960\n",
      "(Iteration 1401 / 7640) loss: 1.388326\n",
      "(Iteration 1501 / 7640) loss: 1.234336\n",
      "(Epoch 4 / 20) train acc: 0.512000; val_acc: 0.506000\n",
      "(Iteration 1601 / 7640) loss: 1.237283\n",
      "(Iteration 1701 / 7640) loss: 1.453169\n",
      "(Iteration 1801 / 7640) loss: 1.179847\n",
      "(Iteration 1901 / 7640) loss: 1.227976\n",
      "(Epoch 5 / 20) train acc: 0.549000; val_acc: 0.484000\n",
      "(Iteration 2001 / 7640) loss: 1.290517\n",
      "(Iteration 2101 / 7640) loss: 1.289756\n",
      "(Iteration 2201 / 7640) loss: 1.390328\n",
      "(Epoch 6 / 20) train acc: 0.566000; val_acc: 0.512000\n",
      "(Iteration 2301 / 7640) loss: 1.235626\n",
      "(Iteration 2401 / 7640) loss: 1.514838\n",
      "(Iteration 2501 / 7640) loss: 1.116230\n",
      "(Iteration 2601 / 7640) loss: 1.145477\n",
      "(Epoch 7 / 20) train acc: 0.585000; val_acc: 0.523000\n",
      "(Iteration 2701 / 7640) loss: 1.136197\n",
      "(Iteration 2801 / 7640) loss: 1.314101\n",
      "(Iteration 2901 / 7640) loss: 1.131138\n",
      "(Iteration 3001 / 7640) loss: 1.234707\n",
      "(Epoch 8 / 20) train acc: 0.586000; val_acc: 0.513000\n",
      "(Iteration 3101 / 7640) loss: 1.360635\n",
      "(Iteration 3201 / 7640) loss: 1.090647\n",
      "(Iteration 3301 / 7640) loss: 1.133317\n",
      "(Iteration 3401 / 7640) loss: 1.210948\n",
      "(Epoch 9 / 20) train acc: 0.597000; val_acc: 0.519000\n",
      "(Iteration 3501 / 7640) loss: 1.190899\n",
      "(Iteration 3601 / 7640) loss: 1.043086\n",
      "(Iteration 3701 / 7640) loss: 1.210796\n",
      "(Iteration 3801 / 7640) loss: 1.061975\n",
      "(Epoch 10 / 20) train acc: 0.608000; val_acc: 0.522000\n",
      "(Iteration 3901 / 7640) loss: 0.978634\n",
      "(Iteration 4001 / 7640) loss: 1.047999\n",
      "(Iteration 4101 / 7640) loss: 1.086240\n",
      "(Iteration 4201 / 7640) loss: 1.160929\n",
      "(Epoch 11 / 20) train acc: 0.621000; val_acc: 0.498000\n",
      "(Iteration 4301 / 7640) loss: 1.000565\n",
      "(Iteration 4401 / 7640) loss: 1.114469\n",
      "(Iteration 4501 / 7640) loss: 1.125316\n",
      "(Epoch 12 / 20) train acc: 0.614000; val_acc: 0.510000\n",
      "(Iteration 4601 / 7640) loss: 1.023084\n",
      "(Iteration 4701 / 7640) loss: 1.057693\n",
      "(Iteration 4801 / 7640) loss: 1.054492\n",
      "(Iteration 4901 / 7640) loss: 1.187714\n",
      "(Epoch 13 / 20) train acc: 0.689000; val_acc: 0.523000\n",
      "(Iteration 5001 / 7640) loss: 1.056746\n",
      "(Iteration 5101 / 7640) loss: 1.056478\n",
      "(Iteration 5201 / 7640) loss: 0.967128\n",
      "(Iteration 5301 / 7640) loss: 0.917851\n",
      "(Epoch 14 / 20) train acc: 0.636000; val_acc: 0.510000\n",
      "(Iteration 5401 / 7640) loss: 1.061582\n",
      "(Iteration 5501 / 7640) loss: 1.049368\n",
      "(Iteration 5601 / 7640) loss: 1.268453\n",
      "(Iteration 5701 / 7640) loss: 1.024378\n",
      "(Epoch 15 / 20) train acc: 0.670000; val_acc: 0.532000\n",
      "(Iteration 5801 / 7640) loss: 0.970015\n",
      "(Iteration 5901 / 7640) loss: 1.005412\n",
      "(Iteration 6001 / 7640) loss: 0.843592\n",
      "(Iteration 6101 / 7640) loss: 0.972582\n",
      "(Epoch 16 / 20) train acc: 0.650000; val_acc: 0.518000\n",
      "(Iteration 6201 / 7640) loss: 1.070246\n",
      "(Iteration 6301 / 7640) loss: 0.936688\n",
      "(Iteration 6401 / 7640) loss: 1.034296\n",
      "(Epoch 17 / 20) train acc: 0.668000; val_acc: 0.513000\n",
      "(Iteration 6501 / 7640) loss: 1.103293\n",
      "(Iteration 6601 / 7640) loss: 0.978826\n",
      "(Iteration 6701 / 7640) loss: 0.968904\n",
      "(Iteration 6801 / 7640) loss: 1.045913\n",
      "(Epoch 18 / 20) train acc: 0.656000; val_acc: 0.528000\n",
      "(Iteration 6901 / 7640) loss: 0.904009\n",
      "(Iteration 7001 / 7640) loss: 0.989522\n",
      "(Iteration 7101 / 7640) loss: 1.060680\n",
      "(Iteration 7201 / 7640) loss: 0.817042\n",
      "(Epoch 19 / 20) train acc: 0.678000; val_acc: 0.519000\n",
      "(Iteration 7301 / 7640) loss: 0.924383\n",
      "(Iteration 7401 / 7640) loss: 0.992827\n",
      "(Iteration 7501 / 7640) loss: 0.946176\n",
      "(Iteration 7601 / 7640) loss: 1.027014\n",
      "(Epoch 20 / 20) train acc: 0.698000; val_acc: 0.522000\n"
     ]
    }
   ],
   "source": [
    "model = TwoLayerNet()\n",
    "solver = None\n",
    "\n",
    "##############################################################################\n",
    "# TODO: Use a Solver instance to train a TwoLayerNet that achieves at least  #\n",
    "# 50% accuracy on the validation set.                                        #\n",
    "##############################################################################\n",
    "solver = Solver(model, data, update_rule='sgd', optim_config={'learning_rate':1e-3,},\n",
    "               lr_decay=0.95, num_epochs=20, batch_size=128, print_every=100)\n",
    "solver.train()\n",
    "##############################################################################\n",
    "#                             END OF YOUR CODE                               #\n",
    "##############################################################################"
   ]
  },
  {
   "cell_type": "code",
   "execution_count": 51,
   "metadata": {},
   "outputs": [
    {
     "data": {
      "image/png": "[encoded data removed]",
      "text/plain": [
       "<Figure size 1080x864 with 2 Axes>"
      ]
     },
     "metadata": {},
     "output_type": "display_data"
    }
   ],
   "source": [
    "# Run this cell to visualize training loss and train / val accuracy\n",
    "\n",
    "plt.subplot(2, 1, 1)\n",
    "plt.title('Training loss')\n",
    "plt.plot(solver.loss_history, 'o')\n",
    "plt.xlabel('Iteration')\n",
    "\n",
    "plt.subplot(2, 1, 2)\n",
    "plt.title('Accuracy')\n",
    "plt.plot(solver.train_acc_history, '-o', label='train')\n",
    "plt.plot(solver.val_acc_history, '-o', label='val')\n",
    "plt.plot([0.5] * len(solver.val_acc_history), 'k--')\n",
    "plt.xlabel('Epoch')\n",
    "plt.legend(loc='lower right')\n",
    "plt.gcf().set_size_inches(15, 12)\n",
    "plt.show()"
   ]
  },
  {
   "cell_type": "markdown",
   "metadata": {},
   "source": [
    "# Multilayer network\n",
    "Next you will implement a fully-connected network with an arbitrary number of hidden layers.\n",
    "\n",
    "Read through the `FullyConnectedNet` class in the file `cs231n/classifiers/fc_net.py`.\n",
    "\n",
    "Implement the initialization, the forward pass, and the backward pass. For the moment don't worry about implementing dropout or batch/layer normalization; we will add those features soon."
   ]
  },
  {
   "cell_type": "markdown",
   "metadata": {},
   "source": [
    "## Initial loss and gradient check"
   ]
  },
  {
   "cell_type": "markdown",
   "metadata": {},
   "source": [
    "As a sanity check, run the following to check the initial loss and to gradient check the network both with and without regularization. Do the initial losses seem reasonable?\n",
    "\n",
    "For gradient checking, you should expect to see errors around 1e-7 or less."
   ]
  },
  {
   "cell_type": "code",
   "execution_count": 60,
   "metadata": {},
   "outputs": [
    {
     "name": "stdout",
     "output_type": "stream",
     "text": [
      "Running check with reg =  0\n",
      "Initial loss:  2.3004790897684924\n",
      "W1 relative error: 1.48e-07\n",
      "W2 relative error: 2.21e-05\n",
      "W3 relative error: 3.53e-07\n",
      "b1 relative error: 5.38e-09\n",
      "b2 relative error: 2.09e-09\n",
      "b3 relative error: 5.80e-11\n",
      "Running check with reg =  3.14\n",
      "Initial loss:  2.3016482157750753\n",
      "W1 relative error: 6.96e-07\n",
      "W2 relative error: 5.01e-06\n",
      "W3 relative error: 2.96e-07\n",
      "b1 relative error: 1.48e-08\n",
      "b2 relative error: 1.72e-09\n",
      "b3 relative error: 1.32e-10\n"
     ]
    }
   ],
   "source": [
    "np.random.seed(231)\n",
    "N, D, H1, H2, C = 2, 15, 20, 30, 10\n",
    "X = np.random.randn(N, D)\n",
    "y = np.random.randint(C, size=(N,))\n",
    "\n",
    "for reg in [0, 3.14]:\n",
    "  print('Running check with reg = ', reg)\n",
    "  model = FullyConnectedNet([H1, H2], input_dim=D, num_classes=C,\n",
    "                            reg=reg, weight_scale=5e-2, dtype=np.float64)\n",
    "\n",
    "  loss, grads = model.loss(X, y)\n",
    "  print('Initial loss: ', loss)\n",
    "  \n",
    "  # Most of the errors should be on the order of e-7 or smaller.   \n",
    "  # NOTE: It is fine however to see an error for W2 on the order of e-5\n",
    "  # for the check when reg = 0.0\n",
    "  for name in sorted(grads):\n",
    "    f = lambda _: model.loss(X, y)[0]\n",
    "    grad_num = eval_numerical_gradient(f, model.params[name], verbose=False, h=1e-5)\n",
    "    print('%s relative error: %.2e' % (name, rel_error(grad_num, grads[name])))"
   ]
  },
  {
   "cell_type": "markdown",
   "metadata": {},
   "source": [
    "As another sanity check, make sure you can overfit a small dataset of 50 images. First we will try a three-layer network with 100 units in each hidden layer. In the following cell, tweak the learning rate and initialization scale to overfit and achieve 100% training accuracy within 20 epochs."
   ]
  },
  {
   "cell_type": "code",
   "execution_count": 62,
   "metadata": {
    "scrolled": false
   },
   "outputs": [
    {
     "name": "stdout",
     "output_type": "stream",
     "text": [
      "(Iteration 1 / 40) loss: 2.375113\n",
      "(Epoch 0 / 20) train acc: 0.220000; val_acc: 0.091000\n",
      "(Epoch 1 / 20) train acc: 0.240000; val_acc: 0.096000\n",
      "(Epoch 2 / 20) train acc: 0.460000; val_acc: 0.152000\n",
      "(Epoch 3 / 20) train acc: 0.560000; val_acc: 0.121000\n",
      "(Epoch 4 / 20) train acc: 0.620000; val_acc: 0.165000\n",
      "(Epoch 5 / 20) train acc: 0.620000; val_acc: 0.158000\n",
      "(Iteration 11 / 40) loss: 1.094711\n",
      "(Epoch 6 / 20) train acc: 0.820000; val_acc: 0.173000\n",
      "(Epoch 7 / 20) train acc: 0.800000; val_acc: 0.171000\n",
      "(Epoch 8 / 20) train acc: 0.860000; val_acc: 0.172000\n",
      "(Epoch 9 / 20) train acc: 0.980000; val_acc: 0.198000\n",
      "(Epoch 10 / 20) train acc: 0.940000; val_acc: 0.183000\n",
      "(Iteration 21 / 40) loss: 0.278962\n",
      "(Epoch 11 / 20) train acc: 0.980000; val_acc: 0.177000\n",
      "(Epoch 12 / 20) train acc: 0.980000; val_acc: 0.196000\n",
      "(Epoch 13 / 20) train acc: 0.960000; val_acc: 0.169000\n",
      "(Epoch 14 / 20) train acc: 0.980000; val_acc: 0.177000\n",
      "(Epoch 15 / 20) train acc: 0.980000; val_acc: 0.187000\n",
      "(Iteration 31 / 40) loss: 0.044916\n",
      "(Epoch 16 / 20) train acc: 0.980000; val_acc: 0.186000\n",
      "(Epoch 17 / 20) train acc: 1.000000; val_acc: 0.180000\n",
      "(Epoch 18 / 20) train acc: 1.000000; val_acc: 0.184000\n",
      "(Epoch 19 / 20) train acc: 1.000000; val_acc: 0.178000\n",
      "(Epoch 20 / 20) train acc: 1.000000; val_acc: 0.177000\n"
     ]
    },
    {
     "data": {
      "image/png": "[encoded data removed]",
      "text/plain": [
       "<Figure size 432x288 with 1 Axes>"
      ]
     },
     "metadata": {},
     "output_type": "display_data"
    }
   ],
   "source": [
    "# TODO: Use a three-layer Net to overfit 50 training examples by \n",
    "# tweaking just the learning rate and initialization scale.\n",
    "\n",
    "num_train = 50\n",
    "small_data = {\n",
    "  'X_train': data['X_train'][:num_train],\n",
    "  'y_train': data['y_train'][:num_train],\n",
    "  'X_val': data['X_val'],\n",
    "  'y_val': data['y_val'],\n",
    "}\n",
    "\n",
    "weight_scale = 1e-2\n",
    "learning_rate = 1e-2\n",
    "model = FullyConnectedNet([100, 100],\n",
    "              weight_scale=weight_scale, dtype=np.float64)\n",
    "solver = Solver(model, small_data,\n",
    "                print_every=10, num_epochs=20, batch_size=25,\n",
    "                update_rule='sgd',\n",
    "                optim_config={\n",
    "                  'learning_rate': learning_rate,\n",
    "                }\n",
    "         )\n",
    "solver.train()\n",
    "\n",
    "plt.plot(solver.loss_history, 'o')\n",
    "plt.title('Training loss history')\n",
    "plt.xlabel('Iteration')\n",
    "plt.ylabel('Training loss')\n",
    "plt.show()"
   ]
  },
  {
   "cell_type": "markdown",
   "metadata": {},
   "source": [
    "Now try to use a five-layer network with 100 units on each layer to overfit 50 training examples. Again you will have to adjust the learning rate and weight initialization, but you should be able to achieve 100% training accuracy within 20 epochs."
   ]
  },
  {
   "cell_type": "code",
   "execution_count": 72,
   "metadata": {},
   "outputs": [
    {
     "name": "stdout",
     "output_type": "stream",
     "text": [
      "(Iteration 1 / 40) loss: 147.701345\n",
      "(Epoch 0 / 20) train acc: 0.160000; val_acc: 0.112000\n",
      "(Epoch 1 / 20) train acc: 0.100000; val_acc: 0.094000\n",
      "(Epoch 2 / 20) train acc: 0.220000; val_acc: 0.128000\n",
      "(Epoch 3 / 20) train acc: 0.440000; val_acc: 0.122000\n",
      "(Epoch 4 / 20) train acc: 0.540000; val_acc: 0.143000\n",
      "(Epoch 5 / 20) train acc: 0.600000; val_acc: 0.118000\n",
      "(Iteration 11 / 40) loss: 0.850986\n",
      "(Epoch 6 / 20) train acc: 0.740000; val_acc: 0.132000\n",
      "(Epoch 7 / 20) train acc: 0.740000; val_acc: 0.129000\n",
      "(Epoch 8 / 20) train acc: 0.840000; val_acc: 0.125000\n",
      "(Epoch 9 / 20) train acc: 0.920000; val_acc: 0.129000\n",
      "(Epoch 10 / 20) train acc: 0.980000; val_acc: 0.139000\n",
      "(Iteration 21 / 40) loss: 0.197154\n",
      "(Epoch 11 / 20) train acc: 1.000000; val_acc: 0.139000\n",
      "(Epoch 12 / 20) train acc: 1.000000; val_acc: 0.135000\n",
      "(Epoch 13 / 20) train acc: 1.000000; val_acc: 0.136000\n",
      "(Epoch 14 / 20) train acc: 1.000000; val_acc: 0.136000\n",
      "(Epoch 15 / 20) train acc: 1.000000; val_acc: 0.134000\n",
      "(Iteration 31 / 40) loss: 0.002207\n",
      "(Epoch 16 / 20) train acc: 1.000000; val_acc: 0.136000\n",
      "(Epoch 17 / 20) train acc: 1.000000; val_acc: 0.136000\n",
      "(Epoch 18 / 20) train acc: 1.000000; val_acc: 0.136000\n",
      "(Epoch 19 / 20) train acc: 1.000000; val_acc: 0.136000\n",
      "(Epoch 20 / 20) train acc: 1.000000; val_acc: 0.136000\n"
     ]
    },
    {
     "data": {
      "image/png": "[encoded data removed]",
      "text/plain": [
       "<Figure size 432x288 with 1 Axes>"
      ]
     },
     "metadata": {},
     "output_type": "display_data"
    }
   ],
   "source": [
    "# TODO: Use a five-layer Net to overfit 50 training examples by \n",
    "# tweaking just the learning rate and initialization scale.\n",
    "\n",
    "num_train = 50\n",
    "small_data = {\n",
    "  'X_train': data['X_train'][:num_train],\n",
    "  'y_train': data['y_train'][:num_train],\n",
    "  'X_val': data['X_val'],\n",
    "  'y_val': data['y_val'],\n",
    "}\n",
    "\n",
    "learning_rate = 2e-3\n",
    "weight_scale = 1e-1\n",
    "model = FullyConnectedNet([100, 100, 100, 100],\n",
    "                weight_scale=weight_scale, dtype=np.float64)\n",
    "solver = Solver(model, small_data,\n",
    "                print_every=10, num_epochs=20, batch_size=25,\n",
    "                update_rule='sgd',\n",
    "                optim_config={\n",
    "                  'learning_rate': learning_rate,\n",
    "                }\n",
    "         )\n",
    "solver.train()\n",
    "\n",
    "plt.plot(solver.loss_history, 'o')\n",
    "plt.title('Training loss history')\n",
    "plt.xlabel('Iteration')\n",
    "plt.ylabel('Training loss')\n",
    "plt.show()"
   ]
  },
  {
   "cell_type": "markdown",
   "metadata": {},
   "source": [
    "## Inline Question 2: \n",
    "Did you notice anything about the comparative difficulty of training the three-layer net vs training the five layer net? In particular, based on your experience, which network seemed more sensitive to the initialization scale? Why do you think that is the case?"
   ]
  },
  {
   "cell_type": "markdown",
   "metadata": {},
   "source": [
    "## Answer:\n",
    "[the five layer is more sensitive to the initialization]\n"
   ]
  },
  {
   "cell_type": "markdown",
   "metadata": {},
   "source": [
    "# Update rules\n",
    "So far we have used vanilla stochastic gradient descent (SGD) as our update rule. More sophisticated update rules can make it easier to train deep networks. We will implement a few of the most commonly used update rules and compare them to vanilla SGD."
   ]
  },
  {
   "cell_type": "markdown",
   "metadata": {},
   "source": [
    "# SGD+Momentum\n",
    "Stochastic gradient descent with momentum is a widely used update rule that tends to make deep networks converge faster than vanilla stochastic gradient descent. See the Momentum Update section at http://cs231n.github.io/neural-networks-3/#sgd for more information.\n",
    "\n",
    "Open the file `cs231n/optim.py` and read the documentation at the top of the file to make sure you understand the API. Implement the SGD+momentum update rule in the function `sgd_momentum` and run the following to check your implementation. You should see errors less than e-8."
   ]
  },
  {
   "cell_type": "code",
   "execution_count": 74,
   "metadata": {},
   "outputs": [
    {
     "name": "stdout",
     "output_type": "stream",
     "text": [
      "next_w error:  8.882347033505819e-09\n",
      "velocity error:  4.269287743278663e-09\n"
     ]
    }
   ],
   "source": [
    "from cs231n.optim import sgd_momentum\n",
    "\n",
    "N, D = 4, 5\n",
    "w = np.linspace(-0.4, 0.6, num=N*D).reshape(N, D)\n",
    "dw = np.linspace(-0.6, 0.4, num=N*D).reshape(N, D)\n",
    "v = np.linspace(0.6, 0.9, num=N*D).reshape(N, D)\n",
    "\n",
    "config = {'learning_rate': 1e-3, 'velocity': v}\n",
    "next_w, _ = sgd_momentum(w, dw, config=config)\n",
    "\n",
    "expected_next_w = np.asarray([\n",
    "  [ 0.1406,      0.20738947,  0.27417895,  0.34096842,  0.40775789],\n",
    "  [ 0.47454737,  0.54133684,  0.60812632,  0.67491579,  0.74170526],\n",
    "  [ 0.80849474,  0.87528421,  0.94207368,  1.00886316,  1.07565263],\n",
    "  [ 1.14244211,  1.20923158,  1.27602105,  1.34281053,  1.4096    ]])\n",
    "expected_velocity = np.asarray([\n",
    "  [ 0.5406,      0.55475789,  0.56891579, 0.58307368,  0.59723158],\n",
    "  [ 0.61138947,  0.62554737,  0.63970526,  0.65386316,  0.66802105],\n",
    "  [ 0.68217895,  0.69633684,  0.71049474,  0.72465263,  0.73881053],\n",
    "  [ 0.75296842,  0.76712632,  0.78128421,  0.79544211,  0.8096    ]])\n",
    "\n",
    "# Should see relative errors around e-8 or less\n",
    "print('next_w error: ', rel_error(next_w, expected_next_w))\n",
    "print('velocity error: ', rel_error(expected_velocity, config['velocity']))"
   ]
  },
  {
   "cell_type": "markdown",
   "metadata": {},
   "source": [
    "Once you have done so, run the following to train a six-layer network with both SGD and SGD+momentum. You should see the SGD+momentum update rule converge faster."
   ]
  },
  {
   "cell_type": "code",
   "execution_count": 75,
   "metadata": {
    "scrolled": false
   },
   "outputs": [
    {
     "name": "stdout",
     "output_type": "stream",
     "text": [
      "running with  sgd\n",
      "(Iteration 1 / 200) loss: 2.728801\n",
      "(Epoch 0 / 5) train acc: 0.120000; val_acc: 0.108000\n",
      "(Iteration 11 / 200) loss: 2.257289\n",
      "(Iteration 21 / 200) loss: 2.162200\n",
      "(Iteration 31 / 200) loss: 2.136796\n",
      "(Epoch 1 / 5) train acc: 0.286000; val_acc: 0.244000\n",
      "(Iteration 41 / 200) loss: 2.067111\n",
      "(Iteration 51 / 200) loss: 1.938922\n",
      "(Iteration 61 / 200) loss: 2.010840\n",
      "(Iteration 71 / 200) loss: 1.929796\n",
      "(Epoch 2 / 5) train acc: 0.328000; val_acc: 0.301000\n",
      "(Iteration 81 / 200) loss: 1.717726\n",
      "(Iteration 91 / 200) loss: 1.804610\n",
      "(Iteration 101 / 200) loss: 1.804977\n",
      "(Iteration 111 / 200) loss: 1.898410\n",
      "(Epoch 3 / 5) train acc: 0.398000; val_acc: 0.319000\n",
      "(Iteration 121 / 200) loss: 1.740389\n",
      "(Iteration 131 / 200) loss: 1.670459\n",
      "(Iteration 141 / 200) loss: 1.770227\n",
      "(Iteration 151 / 200) loss: 1.903408\n",
      "(Epoch 4 / 5) train acc: 0.384000; val_acc: 0.286000\n",
      "(Iteration 161 / 200) loss: 1.759668\n",
      "(Iteration 171 / 200) loss: 1.722430\n",
      "(Iteration 181 / 200) loss: 1.573192\n",
      "(Iteration 191 / 200) loss: 1.630614\n",
      "(Epoch 5 / 5) train acc: 0.443000; val_acc: 0.328000\n",
      "\n",
      "running with  sgd_momentum\n",
      "(Iteration 1 / 200) loss: 2.913834\n",
      "(Epoch 0 / 5) train acc: 0.085000; val_acc: 0.086000\n",
      "(Iteration 11 / 200) loss: 2.259532\n",
      "(Iteration 21 / 200) loss: 2.014960\n",
      "(Iteration 31 / 200) loss: 1.885972\n",
      "(Epoch 1 / 5) train acc: 0.295000; val_acc: 0.287000\n",
      "(Iteration 41 / 200) loss: 1.870815\n",
      "(Iteration 51 / 200) loss: 1.818797\n",
      "(Iteration 61 / 200) loss: 1.813069\n",
      "(Iteration 71 / 200) loss: 1.748859\n",
      "(Epoch 2 / 5) train acc: 0.398000; val_acc: 0.331000\n",
      "(Iteration 81 / 200) loss: 1.683718\n",
      "(Iteration 91 / 200) loss: 1.703873\n",
      "(Iteration 101 / 200) loss: 1.636001\n",
      "(Iteration 111 / 200) loss: 1.648860\n",
      "(Epoch 3 / 5) train acc: 0.422000; val_acc: 0.345000\n",
      "(Iteration 121 / 200) loss: 1.362970\n",
      "(Iteration 131 / 200) loss: 1.439231\n",
      "(Iteration 141 / 200) loss: 1.538752\n",
      "(Iteration 151 / 200) loss: 1.578139\n",
      "(Epoch 4 / 5) train acc: 0.456000; val_acc: 0.323000\n",
      "(Iteration 161 / 200) loss: 1.439971\n",
      "(Iteration 171 / 200) loss: 1.403033\n",
      "(Iteration 181 / 200) loss: 1.817940\n",
      "(Iteration 191 / 200) loss: 1.447223\n",
      "(Epoch 5 / 5) train acc: 0.495000; val_acc: 0.396000\n",
      "\n"
     ]
    },
    {
     "name": "stderr",
     "output_type": "stream",
     "text": [
      "/Library/Frameworks/Python.framework/Versions/3.6/lib/python3.6/site-packages/matplotlib/cbook/deprecation.py:107: MatplotlibDeprecationWarning: Adding an axes using the same arguments as a previous axes currently reuses the earlier instance.  In a future version, a new instance will always be created and returned.  Meanwhile, this warning can be suppressed, and the future behavior ensured, by passing a unique label to each axes instance.\n",
      "  warnings.warn(message, mplDeprecation, stacklevel=1)\n"
     ]
    },
    {
     "data": {
      "image/png": "[encoded data removed]",
      "text/plain": [
       "<Figure size 1080x1080 with 3 Axes>"
      ]
     },
     "metadata": {},
     "output_type": "display_data"
    }
   ],
   "source": [
    "num_train = 4000\n",
    "small_data = {\n",
    "  'X_train': data['X_train'][:num_train],\n",
    "  'y_train': data['y_train'][:num_train],\n",
    "  'X_val': data['X_val'],\n",
    "  'y_val': data['y_val'],\n",
    "}\n",
    "\n",
    "solvers = {}\n",
    "\n",
    "for update_rule in ['sgd', 'sgd_momentum']:\n",
    "  print('running with ', update_rule)\n",
    "  model = FullyConnectedNet([100, 100, 100, 100, 100], weight_scale=5e-2)\n",
    "\n",
    "  solver = Solver(model, small_data,\n",
    "                  num_epochs=5, batch_size=100,\n",
    "                  update_rule=update_rule,\n",
    "                  optim_config={\n",
    "                    'learning_rate': 1e-2,\n",
    "                  },\n",
    "                  verbose=True)\n",
    "  solvers[update_rule] = solver\n",
    "  solver.train()\n",
    "  print()\n",
    "\n",
    "plt.subplot(3, 1, 1)\n",
    "plt.title('Training loss')\n",
    "plt.xlabel('Iteration')\n",
    "\n",
    "plt.subplot(3, 1, 2)\n",
    "plt.title('Training accuracy')\n",
    "plt.xlabel('Epoch')\n",
    "\n",
    "plt.subplot(3, 1, 3)\n",
    "plt.title('Validation accuracy')\n",
    "plt.xlabel('Epoch')\n",
    "\n",
    "for update_rule, solver in list(solvers.items()):\n",
    "  plt.subplot(3, 1, 1)\n",
    "  plt.plot(solver.loss_history, 'o', label=update_rule)\n",
    "  \n",
    "  plt.subplot(3, 1, 2)\n",
    "  plt.plot(solver.train_acc_history, '-o', label=update_rule)\n",
    "\n",
    "  plt.subplot(3, 1, 3)\n",
    "  plt.plot(solver.val_acc_history, '-o', label=update_rule)\n",
    "  \n",
    "for i in [1, 2, 3]:\n",
    "  plt.subplot(3, 1, i)\n",
    "  plt.legend(loc='upper center', ncol=4)\n",
    "plt.gcf().set_size_inches(15, 15)\n",
    "plt.show()"
   ]
  },
  {
   "cell_type": "markdown",
   "metadata": {},
   "source": [
    "# RMSProp and Adam\n",
    "RMSProp [1] and Adam [2] are update rules that set per-parameter learning rates by using a running average of the second moments of gradients.\n",
    "\n",
    "In the file `cs231n/optim.py`, implement the RMSProp update rule in the `rmsprop` function and implement the Adam update rule in the `adam` function, and check your implementations using the tests below.\n",
    "\n",
    "**NOTE:** Please implement the _complete_ Adam update rule (with the bias correction mechanism), not the first simplified version mentioned in the course notes. \n",
    "\n",
    "[1] Tijmen Tieleman and Geoffrey Hinton. \"Lecture 6.5-rmsprop: Divide the gradient by a running average of its recent magnitude.\" COURSERA: Neural Networks for Machine Learning 4 (2012).\n",
    "\n",
    "[2] Diederik Kingma and Jimmy Ba, \"Adam: A Method for Stochastic Optimization\", ICLR 2015."
   ]
  },
  {
   "cell_type": "code",
   "execution_count": 76,
   "metadata": {},
   "outputs": [
    {
     "name": "stdout",
     "output_type": "stream",
     "text": [
      "next_w error:  9.502645229894295e-08\n",
      "cache error:  2.6477955807156126e-09\n"
     ]
    }
   ],
   "source": [
    "# Test RMSProp implementation\n",
    "from cs231n.optim import rmsprop\n",
    "\n",
    "N, D = 4, 5\n",
    "w = np.linspace(-0.4, 0.6, num=N*D).reshape(N, D)\n",
    "dw = np.linspace(-0.6, 0.4, num=N*D).reshape(N, D)\n",
    "cache = np.linspace(0.6, 0.9, num=N*D).reshape(N, D)\n",
    "\n",
    "config = {'learning_rate': 1e-2, 'cache': cache}\n",
    "next_w, _ = rmsprop(w, dw, config=config)\n",
    "\n",
    "expected_next_w = np.asarray([\n",
    "  [-0.39223849, -0.34037513, -0.28849239, -0.23659121, -0.18467247],\n",
    "  [-0.132737,   -0.08078555, -0.02881884,  0.02316247,  0.07515774],\n",
    "  [ 0.12716641,  0.17918792,  0.23122175,  0.28326742,  0.33532447],\n",
    "  [ 0.38739248,  0.43947102,  0.49155973,  0.54365823,  0.59576619]])\n",
    "expected_cache = np.asarray([\n",
    "  [ 0.5976,      0.6126277,   0.6277108,   0.64284931,  0.65804321],\n",
    "  [ 0.67329252,  0.68859723,  0.70395734,  0.71937285,  0.73484377],\n",
    "  [ 0.75037008,  0.7659518,   0.78158892,  0.79728144,  0.81302936],\n",
    "  [ 0.82883269,  0.84469141,  0.86060554,  0.87657507,  0.8926    ]])\n",
    "\n",
    "# You should see relative errors around e-7 or less\n",
    "print('next_w error: ', rel_error(expected_next_w, next_w))\n",
    "print('cache error: ', rel_error(expected_cache, config['cache']))"
   ]
  },
  {
   "cell_type": "code",
   "execution_count": 82,
   "metadata": {},
   "outputs": [
    {
     "name": "stdout",
     "output_type": "stream",
     "text": [
      "next_w error:  1.1395691798535431e-07\n",
      "v error:  4.208314038113071e-09\n",
      "m error:  4.214963193114416e-09\n"
     ]
    }
   ],
   "source": [
    "# Test Adam implementation\n",
    "from cs231n.optim import adam\n",
    "\n",
    "N, D = 4, 5\n",
    "w = np.linspace(-0.4, 0.6, num=N*D).reshape(N, D)\n",
    "dw = np.linspace(-0.6, 0.4, num=N*D).reshape(N, D)\n",
    "m = np.linspace(0.6, 0.9, num=N*D).reshape(N, D)\n",
    "v = np.linspace(0.7, 0.5, num=N*D).reshape(N, D)\n",
    "\n",
    "config = {'learning_rate': 1e-2, 'm': m, 'v': v, 't': 5}\n",
    "next_w, _ = adam(w, dw, config=config)\n",
    "\n",
    "expected_next_w = np.asarray([\n",
    "  [-0.40094747, -0.34836187, -0.29577703, -0.24319299, -0.19060977],\n",
    "  [-0.1380274,  -0.08544591, -0.03286534,  0.01971428,  0.0722929],\n",
    "  [ 0.1248705,   0.17744702,  0.23002243,  0.28259667,  0.33516969],\n",
    "  [ 0.38774145,  0.44031188,  0.49288093,  0.54544852,  0.59801459]])\n",
    "expected_v = np.asarray([\n",
    "  [ 0.69966,     0.68908382,  0.67851319,  0.66794809,  0.65738853,],\n",
    "  [ 0.64683452,  0.63628604,  0.6257431,   0.61520571,  0.60467385,],\n",
    "  [ 0.59414753,  0.58362676,  0.57311152,  0.56260183,  0.55209767,],\n",
    "  [ 0.54159906,  0.53110598,  0.52061845,  0.51013645,  0.49966,   ]])\n",
    "expected_m = np.asarray([\n",
    "  [ 0.48,        0.49947368,  0.51894737,  0.53842105,  0.55789474],\n",
    "  [ 0.57736842,  0.59684211,  0.61631579,  0.63578947,  0.65526316],\n",
    "  [ 0.67473684,  0.69421053,  0.71368421,  0.73315789,  0.75263158],\n",
    "  [ 0.77210526,  0.79157895,  0.81105263,  0.83052632,  0.85      ]])\n",
    "\n",
    "# You should see relative errors around e-7 or less\n",
    "print('next_w error: ', rel_error(expected_next_w, next_w))\n",
    "print('v error: ', rel_error(expected_v, config['v']))\n",
    "print('m error: ', rel_error(expected_m, config['m']))"
   ]
  },
  {
   "cell_type": "markdown",
   "metadata": {},
   "source": [
    "Once you have debugged your RMSProp and Adam implementations, run the following to train a pair of deep networks using these new update rules:"
   ]
  },
  {
   "cell_type": "code",
   "execution_count": 83,
   "metadata": {},
   "outputs": [
    {
     "name": "stdout",
     "output_type": "stream",
     "text": [
      "running with  adam\n",
      "(Iteration 1 / 200) loss: 2.871596\n",
      "(Epoch 0 / 5) train acc: 0.141000; val_acc: 0.135000\n",
      "(Iteration 11 / 200) loss: 2.297837\n",
      "(Iteration 21 / 200) loss: 2.008828\n",
      "(Iteration 31 / 200) loss: 2.031760\n",
      "(Epoch 1 / 5) train acc: 0.358000; val_acc: 0.311000\n",
      "(Iteration 41 / 200) loss: 1.915996\n",
      "(Iteration 51 / 200) loss: 1.711529\n",
      "(Iteration 61 / 200) loss: 1.815213\n",
      "(Iteration 71 / 200) loss: 1.653724\n",
      "(Epoch 2 / 5) train acc: 0.434000; val_acc: 0.344000\n",
      "(Iteration 81 / 200) loss: 1.642000\n",
      "(Iteration 91 / 200) loss: 1.483148\n",
      "(Iteration 101 / 200) loss: 1.483856\n",
      "(Iteration 111 / 200) loss: 1.338348\n",
      "(Epoch 3 / 5) train acc: 0.485000; val_acc: 0.343000\n",
      "(Iteration 121 / 200) loss: 1.712404\n",
      "(Iteration 131 / 200) loss: 1.366385\n",
      "(Iteration 141 / 200) loss: 1.383904\n",
      "(Iteration 151 / 200) loss: 1.240938\n",
      "(Epoch 4 / 5) train acc: 0.531000; val_acc: 0.351000\n",
      "(Iteration 161 / 200) loss: 1.218386\n",
      "(Iteration 171 / 200) loss: 1.439451\n",
      "(Iteration 181 / 200) loss: 1.273799\n",
      "(Iteration 191 / 200) loss: 1.167722\n",
      "(Epoch 5 / 5) train acc: 0.560000; val_acc: 0.378000\n",
      "\n",
      "running with  rmsprop\n",
      "(Iteration 1 / 200) loss: 2.573888\n",
      "(Epoch 0 / 5) train acc: 0.115000; val_acc: 0.117000\n",
      "(Iteration 11 / 200) loss: 1.927495\n",
      "(Iteration 21 / 200) loss: 2.002115\n",
      "(Iteration 31 / 200) loss: 1.785736\n",
      "(Epoch 1 / 5) train acc: 0.406000; val_acc: 0.325000\n",
      "(Iteration 41 / 200) loss: 1.831394\n",
      "(Iteration 51 / 200) loss: 1.734073\n",
      "(Iteration 61 / 200) loss: 1.651625\n",
      "(Iteration 71 / 200) loss: 1.613449\n",
      "(Epoch 2 / 5) train acc: 0.413000; val_acc: 0.352000\n",
      "(Iteration 81 / 200) loss: 1.507037\n",
      "(Iteration 91 / 200) loss: 1.615441\n",
      "(Iteration 101 / 200) loss: 1.602834\n",
      "(Iteration 111 / 200) loss: 1.557861\n",
      "(Epoch 3 / 5) train acc: 0.485000; val_acc: 0.348000\n",
      "(Iteration 121 / 200) loss: 1.394290\n",
      "(Iteration 131 / 200) loss: 1.477241\n",
      "(Iteration 141 / 200) loss: 1.470980\n",
      "(Iteration 151 / 200) loss: 1.376230\n",
      "(Epoch 4 / 5) train acc: 0.530000; val_acc: 0.367000\n",
      "(Iteration 161 / 200) loss: 1.476032\n",
      "(Iteration 171 / 200) loss: 1.451835\n",
      "(Iteration 181 / 200) loss: 1.302107\n",
      "(Iteration 191 / 200) loss: 1.442171\n",
      "(Epoch 5 / 5) train acc: 0.540000; val_acc: 0.383000\n",
      "\n"
     ]
    },
    {
     "name": "stderr",
     "output_type": "stream",
     "text": [
      "/Library/Frameworks/Python.framework/Versions/3.6/lib/python3.6/site-packages/matplotlib/cbook/deprecation.py:107: MatplotlibDeprecationWarning: Adding an axes using the same arguments as a previous axes currently reuses the earlier instance.  In a future version, a new instance will always be created and returned.  Meanwhile, this warning can be suppressed, and the future behavior ensured, by passing a unique label to each axes instance.\n",
      "  warnings.warn(message, mplDeprecation, stacklevel=1)\n"
     ]
    },
    {
     "data": {
      "image/png": "[encoded data removed]",
      "text/plain": [
       "<Figure size 1080x1080 with 3 Axes>"
      ]
     },
     "metadata": {},
     "output_type": "display_data"
    }
   ],
   "source": [
    "learning_rates = {'rmsprop': 1e-4, 'adam': 1e-3}\n",
    "for update_rule in ['adam', 'rmsprop']:\n",
    "  print('running with ', update_rule)\n",
    "  model = FullyConnectedNet([100, 100, 100, 100, 100], weight_scale=5e-2)\n",
    "\n",
    "  solver = Solver(model, small_data,\n",
    "                  num_epochs=5, batch_size=100,\n",
    "                  update_rule=update_rule,\n",
    "                  optim_config={\n",
    "                    'learning_rate': learning_rates[update_rule]\n",
    "                  },\n",
    "                  verbose=True)\n",
    "  solvers[update_rule] = solver\n",
    "  solver.train()\n",
    "  print()\n",
    "\n",
    "plt.subplot(3, 1, 1)\n",
    "plt.title('Training loss')\n",
    "plt.xlabel('Iteration')\n",
    "\n",
    "plt.subplot(3, 1, 2)\n",
    "plt.title('Training accuracy')\n",
    "plt.xlabel('Epoch')\n",
    "\n",
    "plt.subplot(3, 1, 3)\n",
    "plt.title('Validation accuracy')\n",
    "plt.xlabel('Epoch')\n",
    "\n",
    "for update_rule, solver in list(solvers.items()):\n",
    "  plt.subplot(3, 1, 1)\n",
    "  plt.plot(solver.loss_history, 'o', label=update_rule)\n",
    "  \n",
    "  plt.subplot(3, 1, 2)\n",
    "  plt.plot(solver.train_acc_history, '-o', label=update_rule)\n",
    "\n",
    "  plt.subplot(3, 1, 3)\n",
    "  plt.plot(solver.val_acc_history, '-o', label=update_rule)\n",
    "  \n",
    "for i in [1, 2, 3]:\n",
    "  plt.subplot(3, 1, i)\n",
    "  plt.legend(loc='upper center', ncol=4)\n",
    "plt.gcf().set_size_inches(15, 15)\n",
    "plt.show()"
   ]
  },
  {
   "cell_type": "markdown",
   "metadata": {},
   "source": [
    "## Inline Question 3:\n",
    "\n",
    "AdaGrad, like Adam, is a per-parameter optimization method that uses the following update rule:\n",
    "\n",
    "```\n",
    "cache += dw**2\n",
    "w += - learning_rate * dw / (np.sqrt(cache) + eps)\n",
    "```\n",
    "\n",
    "John notices that when he was training a network with AdaGrad that the updates became very small, and that his network was learning slowly. Using your knowledge of the AdaGrad update rule, why do you think the updates would become very small? Would Adam have the same issue?\n"
   ]
  },
  {
   "cell_type": "markdown",
   "metadata": {},
   "source": [
    "## Answer: \n"
   ]
  },
  {
   "cell_type": "markdown",
   "metadata": {},
   "source": [
    "# Train a good model!\n",
    "Train the best fully-connected model that you can on CIFAR-10, storing your best model in the `best_model` variable. We require you to get at least 50% accuracy on the validation set using a fully-connected net.\n",
    "\n",
    "If you are careful it should be possible to get accuracies above 55%, but we don't require it for this part and won't assign extra credit for doing so. Later in the assignment we will ask you to train the best convolutional network that you can on CIFAR-10, and we would prefer that you spend your effort working on convolutional nets rather than fully-connected nets.\n",
    "\n",
    "You might find it useful to complete the `BatchNormalization.ipynb` and `Dropout.ipynb` notebooks before completing this part, since those techniques can help you train powerful models."
   ]
  },
  {
   "cell_type": "code",
   "execution_count": 91,
   "metadata": {
    "scrolled": false
   },
   "outputs": [
    {
     "name": "stdout",
     "output_type": "stream",
     "text": [
      "weight scale 0.050000, lr: 0.000100, val_acc: 0.528000\n",
      "weight scale 0.005000, lr: 0.000100, val_acc: 0.513000\n",
      "weight scale 0.050000, lr: 0.000100, val_acc: 0.505000\n",
      "weight scale 0.005000, lr: 0.000100, val_acc: 0.528000\n",
      "weight scale 0.050000, lr: 0.001000, val_acc: 0.524000\n",
      "weight scale 0.005000, lr: 0.001000, val_acc: 0.542000\n",
      "weight scale 0.050000, lr: 0.001000, val_acc: 0.529000\n",
      "weight scale 0.005000, lr: 0.001000, val_acc: 0.540000\n"
     ]
    }
   ],
   "source": [
    "best_model = None\n",
    "import copy\n",
    "################################################################################\n",
    "# TODO: Train the best FullyConnectedNet that you can on CIFAR-10. You might   #\n",
    "# find batch/layer normalization and dropout useful. Store your best model in  #\n",
    "# the best_model variable.                                                     #\n",
    "################################################################################\n",
    "learning_rate = [1e-4, 1e-3]\n",
    "weight_scale = [5e-2, 5e-3]\n",
    "regularization = [1e-3, 1e-4]\n",
    "best_val_acc = -1\n",
    "for lr in learning_rate:\n",
    "    for reg in regularization:\n",
    "        for wt in weight_scale:\n",
    "            \n",
    "            model = FullyConnectedNet([100,100,100,100], weight_scale=wt, reg=reg)\n",
    "            solver = Solver(model, data, num_epochs=20, update_rule='adam',\n",
    "                            optim_config={'learning_rate':lr}, verbose=False)\n",
    "            solver.train()\n",
    "            val_acc = solver.best_val_acc\n",
    "            print('weight scale %f, lr: %f, val_acc: %f' % (wt, lr, val_acc))\n",
    "            if  val_acc > best_val_acc:\n",
    "                best_val_acc = val_acc\n",
    "                best_model = copy.deepcopy(model)\n",
    "################################################################################\n",
    "#                              END OF YOUR CODE                                #\n",
    "################################################################################"
   ]
  },
  {
   "cell_type": "markdown",
   "metadata": {},
   "source": [
    "# Test your model!\n",
    "Run your best model on the validation and test sets. You should achieve above 50% accuracy on the validation set."
   ]
  },
  {
   "cell_type": "code",
   "execution_count": 92,
   "metadata": {},
   "outputs": [
    {
     "name": "stdout",
     "output_type": "stream",
     "text": [
      "Validation set accuracy:  0.542\n",
      "Test set accuracy:  0.494\n"
     ]
    }
   ],
   "source": [
    "y_test_pred = np.argmax(best_model.loss(data['X_test']), axis=1)\n",
    "y_val_pred = np.argmax(best_model.loss(data['X_val']), axis=1)\n",
    "print('Validation set accuracy: ', (y_val_pred == data['y_val']).mean())\n",
    "print('Test set accuracy: ', (y_test_pred == data['y_test']).mean())"
   ]
  }
 ],
 "metadata": {
  "kernelspec": {
   "display_name": "Python 3",
   "language": "python",
   "name": "python3"
  },
  "language_info": {
   "codemirror_mode": {
    "name": "ipython",
    "version": 3
   },
   "file_extension": ".py",
   "mimetype": "text/x-python",
   "name": "python",
   "nbconvert_exporter": "python",
   "pygments_lexer": "ipython3",
   "version": "3.6.5"
  }
 },
 "nbformat": 4,
 "nbformat_minor": 2
}
