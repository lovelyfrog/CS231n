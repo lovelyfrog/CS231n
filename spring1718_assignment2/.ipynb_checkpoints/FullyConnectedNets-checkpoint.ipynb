{
 "cells": [
  {
   "cell_type": "markdown",
   "metadata": {},
   "source": [
    "# Fully-Connected Neural Nets\n",
    "In the previous homework you implemented a fully-connected two-layer neural network on CIFAR-10. The implementation was simple but not very modular since the loss and gradient were computed in a single monolithic function. This is manageable for a simple two-layer network, but would become impractical as we move to bigger models. Ideally we want to build networks using a more modular design so that we can implement different layer types in isolation and then snap them together into models with different architectures.\n",
    "\n",
    "In this exercise we will implement fully-connected networks using a more modular approach. For each layer we will implement a `forward` and a `backward` function. The `forward` function will receive inputs, weights, and other parameters and will return both an output and a `cache` object storing data needed for the backward pass, like this:\n",
    "\n",
    "```python\n",
    "def layer_forward(x, w):\n",
    "  \"\"\" Receive inputs x and weights w \"\"\"\n",
    "  # Do some computations ...\n",
    "  z = # ... some intermediate value\n",
    "  # Do some more computations ...\n",
    "  out = # the output\n",
    "   \n",
    "  cache = (x, w, z, out) # Values we need to compute gradients\n",
    "   \n",
    "  return out, cache\n",
    "```\n",
    "\n",
    "The backward pass will receive upstream derivatives and the `cache` object, and will return gradients with respect to the inputs and weights, like this:\n",
    "\n",
    "```python\n",
    "def layer_backward(dout, cache):\n",
    "  \"\"\"\n",
    "  Receive dout (derivative of loss with respect to outputs) and cache,\n",
    "  and compute derivative with respect to inputs.\n",
    "  \"\"\"\n",
    "  # Unpack cache values\n",
    "  x, w, z, out = cache\n",
    "  \n",
    "  # Use values in cache to compute derivatives\n",
    "  dx = # Derivative of loss with respect to x\n",
    "  dw = # Derivative of loss with respect to w\n",
    "  \n",
    "  return dx, dw\n",
    "```\n",
    "\n",
    "After implementing a bunch of layers this way, we will be able to easily combine them to build classifiers with different architectures.\n",
    "\n",
    "In addition to implementing fully-connected networks of arbitrary depth, we will also explore different update rules for optimization, and introduce Dropout as a regularizer and Batch/Layer Normalization as a tool to more efficiently optimize deep networks.\n",
    "  "
   ]
  },
  {
   "cell_type": "code",
   "execution_count": 1,
   "metadata": {},
   "outputs": [],
   "source": [
    "# As usual, a bit of setup\n",
    "from __future__ import print_function\n",
    "import time\n",
    "import numpy as np\n",
    "import matplotlib.pyplot as plt\n",
    "from cs231n.classifiers.fc_net import *\n",
    "from cs231n.data_utils import get_CIFAR10_data\n",
    "from cs231n.gradient_check import eval_numerical_gradient, eval_numerical_gradient_array\n",
    "from cs231n.solver import Solver\n",
    "\n",
    "%matplotlib inline\n",
    "plt.rcParams['figure.figsize'] = (10.0, 8.0) # set default size of plots\n",
    "plt.rcParams['image.interpolation'] = 'nearest'\n",
    "plt.rcParams['image.cmap'] = 'gray'\n",
    "\n",
    "# for auto-reloading external modules\n",
    "# see http://stackoverflow.com/questions/1907993/autoreload-of-modules-in-ipython\n",
    "%load_ext autoreload\n",
    "%autoreload 2\n",
    "\n",
    "def rel_error(x, y):\n",
    "  \"\"\" returns relative error \"\"\"\n",
    "  return np.max(np.abs(x - y) / (np.maximum(1e-8, np.abs(x) + np.abs(y))))"
   ]
  },
  {
   "cell_type": "code",
   "execution_count": 2,
   "metadata": {},
   "outputs": [
    {
     "name": "stdout",
     "output_type": "stream",
     "text": [
      "('X_train: ', (49000, 3, 32, 32))\n",
      "('y_train: ', (49000,))\n",
      "('X_val: ', (1000, 3, 32, 32))\n",
      "('y_val: ', (1000,))\n",
      "('X_test: ', (1000, 3, 32, 32))\n",
      "('y_test: ', (1000,))\n"
     ]
    }
   ],
   "source": [
    "# Load the (preprocessed) CIFAR10 data.\n",
    "\n",
    "data = get_CIFAR10_data()\n",
    "for k, v in list(data.items()):\n",
    "  print(('%s: ' % k, v.shape))"
   ]
  },
  {
   "cell_type": "code",
   "execution_count": 36,
   "metadata": {},
   "outputs": [],
   "source": [
    "import copy"
   ]
  },
  {
   "cell_type": "code",
   "execution_count": 5,
   "metadata": {},
   "outputs": [],
   "source": [
    "import matplotlib.pyplot as plt"
   ]
  },
  {
   "cell_type": "code",
   "execution_count": 9,
   "metadata": {},
   "outputs": [],
   "source": [
    "from cs231n.data_utils import load_CIFAR10\n",
    "cifar10_dir = 'cs231n/datasets/cifar-10-batches-py'\n",
    "X_train, y_train, X_test, y_test = load_CIFAR10(cifar10_dir)"
   ]
  },
  {
   "cell_type": "code",
   "execution_count": 11,
   "metadata": {},
   "outputs": [],
   "source": [
    "x1 = X_train[0]"
   ]
  },
  {
   "cell_type": "code",
   "execution_count": 12,
   "metadata": {},
   "outputs": [
    {
     "data": {
      "text/plain": [
       "(32, 32, 3)"
      ]
     },
     "execution_count": 12,
     "metadata": {},
     "output_type": "execute_result"
    }
   ],
   "source": [
    "x1.shape"
   ]
  },
  {
   "cell_type": "code",
   "execution_count": 13,
   "metadata": {},
   "outputs": [
    {
     "data": {
      "text/plain": [
       "array([[ 59.,  62.,  63., ..., 123.,  92.,  72.]])"
      ]
     },
     "execution_count": 13,
     "metadata": {},
     "output_type": "execute_result"
    }
   ],
   "source": [
    "np.reshape(x1, (1,-1))"
   ]
  },
  {
   "cell_type": "code",
   "execution_count": 15,
   "metadata": {
    "scrolled": true
   },
   "outputs": [
    {
     "data": {
      "text/plain": [
       "array([[[ 59.,  62.,  63.],\n",
       "        [ 43.,  46.,  45.],\n",
       "        [ 50.,  48.,  43.],\n",
       "        ...,\n",
       "        [158., 132., 108.],\n",
       "        [152., 125., 102.],\n",
       "        [148., 124., 103.]],\n",
       "\n",
       "       [[ 16.,  20.,  20.],\n",
       "        [  0.,   0.,   0.],\n",
       "        [ 18.,   8.,   0.],\n",
       "        ...,\n",
       "        [123.,  88.,  55.],\n",
       "        [119.,  83.,  50.],\n",
       "        [122.,  87.,  57.]],\n",
       "\n",
       "       [[ 25.,  24.,  21.],\n",
       "        [ 16.,   7.,   0.],\n",
       "        [ 49.,  27.,   8.],\n",
       "        ...,\n",
       "        [118.,  84.,  50.],\n",
       "        [120.,  84.,  50.],\n",
       "        [109.,  73.,  42.]],\n",
       "\n",
       "       ...,\n",
       "\n",
       "       [[208., 170.,  96.],\n",
       "        [201., 153.,  34.],\n",
       "        [198., 161.,  26.],\n",
       "        ...,\n",
       "        [160., 133.,  70.],\n",
       "        [ 56.,  31.,   7.],\n",
       "        [ 53.,  34.,  20.]],\n",
       "\n",
       "       [[180., 139.,  96.],\n",
       "        [173., 123.,  42.],\n",
       "        [186., 144.,  30.],\n",
       "        ...,\n",
       "        [184., 148.,  94.],\n",
       "        [ 97.,  62.,  34.],\n",
       "        [ 83.,  53.,  34.]],\n",
       "\n",
       "       [[177., 144., 116.],\n",
       "        [168., 129.,  94.],\n",
       "        [179., 142.,  87.],\n",
       "        ...,\n",
       "        [216., 184., 140.],\n",
       "        [151., 118.,  84.],\n",
       "        [123.,  92.,  72.]]])"
      ]
     },
     "execution_count": 15,
     "metadata": {},
     "output_type": "execute_result"
    }
   ],
   "source": [
    "x1"
   ]
  },
  {
   "cell_type": "code",
   "execution_count": 17,
   "metadata": {
    "scrolled": true
   },
   "outputs": [
    {
     "data": {
      "text/plain": [
       "array([[[ 59.,  62.,  63.],\n",
       "        [ 43.,  46.,  45.],\n",
       "        [ 50.,  48.,  43.],\n",
       "        ...,\n",
       "        [158., 132., 108.],\n",
       "        [152., 125., 102.],\n",
       "        [148., 124., 103.]],\n",
       "\n",
       "       [[ 16.,  20.,  20.],\n",
       "        [  0.,   0.,   0.],\n",
       "        [ 18.,   8.,   0.],\n",
       "        ...,\n",
       "        [123.,  88.,  55.],\n",
       "        [119.,  83.,  50.],\n",
       "        [122.,  87.,  57.]],\n",
       "\n",
       "       [[ 25.,  24.,  21.],\n",
       "        [ 16.,   7.,   0.],\n",
       "        [ 49.,  27.,   8.],\n",
       "        ...,\n",
       "        [118.,  84.,  50.],\n",
       "        [120.,  84.,  50.],\n",
       "        [109.,  73.,  42.]],\n",
       "\n",
       "       ...,\n",
       "\n",
       "       [[208., 170.,  96.],\n",
       "        [201., 153.,  34.],\n",
       "        [198., 161.,  26.],\n",
       "        ...,\n",
       "        [160., 133.,  70.],\n",
       "        [ 56.,  31.,   7.],\n",
       "        [ 53.,  34.,  20.]],\n",
       "\n",
       "       [[180., 139.,  96.],\n",
       "        [173., 123.,  42.],\n",
       "        [186., 144.,  30.],\n",
       "        ...,\n",
       "        [184., 148.,  94.],\n",
       "        [ 97.,  62.,  34.],\n",
       "        [ 83.,  53.,  34.]],\n",
       "\n",
       "       [[177., 144., 116.],\n",
       "        [168., 129.,  94.],\n",
       "        [179., 142.,  87.],\n",
       "        ...,\n",
       "        [216., 184., 140.],\n",
       "        [151., 118.,  84.],\n",
       "        [123.,  92.,  72.]]])"
      ]
     },
     "execution_count": 17,
     "metadata": {},
     "output_type": "execute_result"
    }
   ],
   "source": [
    "x1.reshape(1,-1)\n",
    "x1\n",
    "# 从上面可以发现 不管是 np.reshape(x1,...) 还是 x1.reshape()  都对 x1 没有影响"
   ]
  },
  {
   "cell_type": "code",
   "execution_count": 18,
   "metadata": {},
   "outputs": [
    {
     "data": {
      "text/plain": [
       "array([[[ 59.,  62.,  63., ...,  92.,  76., 175.],\n",
       "        [129., 106., 142., ..., 132., 171., 134.],\n",
       "        [ 99., 165., 115., ..., 123.,  92.,  72.]]])"
      ]
     },
     "execution_count": 18,
     "metadata": {},
     "output_type": "execute_result"
    }
   ],
   "source": [
    "x1.reshape(1,3,-1)"
   ]
  },
  {
   "cell_type": "code",
   "execution_count": 22,
   "metadata": {
    "scrolled": true
   },
   "outputs": [
    {
     "data": {
      "text/plain": [
       "array([[ 59.,  62.,  63.],\n",
       "       [ 43.,  46.,  45.],\n",
       "       [ 50.,  48.,  43.],\n",
       "       [ 68.,  54.,  42.],\n",
       "       [ 98.,  73.,  52.],\n",
       "       [119.,  91.,  63.],\n",
       "       [139., 107.,  75.],\n",
       "       [145., 110.,  80.],\n",
       "       [149., 117.,  89.],\n",
       "       [149., 120.,  93.],\n",
       "       [131., 103.,  77.],\n",
       "       [125.,  99.,  76.],\n",
       "       [142., 115.,  91.],\n",
       "       [144., 112.,  86.],\n",
       "       [137., 105.,  79.],\n",
       "       [129.,  97.,  71.],\n",
       "       [137., 106.,  79.],\n",
       "       [134., 106.,  76.],\n",
       "       [124.,  97.,  64.],\n",
       "       [139., 113.,  78.],\n",
       "       [139., 112.,  75.],\n",
       "       [133., 105.,  69.],\n",
       "       [136., 105.,  74.],\n",
       "       [139., 108.,  77.],\n",
       "       [152., 120.,  89.],\n",
       "       [163., 131., 100.],\n",
       "       [168., 136., 108.],\n",
       "       [159., 129., 102.],\n",
       "       [158., 130., 104.],\n",
       "       [158., 132., 108.],\n",
       "       [152., 125., 102.],\n",
       "       [148., 124., 103.]])"
      ]
     },
     "execution_count": 22,
     "metadata": {},
     "output_type": "execute_result"
    }
   ],
   "source": [
    "x1[0]"
   ]
  },
  {
   "cell_type": "code",
   "execution_count": 23,
   "metadata": {},
   "outputs": [
    {
     "data": {
      "text/plain": [
       "array([[[ 59.,  62.,  63., ..., 123.,  92.,  72.]]])"
      ]
     },
     "execution_count": 23,
     "metadata": {},
     "output_type": "execute_result"
    }
   ],
   "source": [
    "x1.reshape(1,1,-1)"
   ]
  },
  {
   "cell_type": "code",
   "execution_count": 24,
   "metadata": {},
   "outputs": [
    {
     "data": {
      "text/plain": [
       "array([[ 59.,  62.,  63., ..., 123.,  92.,  72.]])"
      ]
     },
     "execution_count": 24,
     "metadata": {},
     "output_type": "execute_result"
    }
   ],
   "source": [
    "x1.reshape(1,-1)"
   ]
  },
  {
   "cell_type": "code",
   "execution_count": 25,
   "metadata": {},
   "outputs": [
    {
     "data": {
      "text/plain": [
       "array([ 59.,  62.,  63., ..., 123.,  92.,  72.])"
      ]
     },
     "execution_count": 25,
     "metadata": {},
     "output_type": "execute_result"
    }
   ],
   "source": [
    "x1.reshape(-1)"
   ]
  },
  {
   "cell_type": "code",
   "execution_count": 26,
   "metadata": {},
   "outputs": [
    {
     "data": {
      "text/plain": [
       "array([[ 59.,  43.,  50., ..., 158., 152., 148.],\n",
       "       [ 16.,   0.,  18., ..., 123., 119., 122.],\n",
       "       [ 25.,  16.,  49., ..., 118., 120., 109.],\n",
       "       ...,\n",
       "       [208., 201., 198., ..., 160.,  56.,  53.],\n",
       "       [180., 173., 186., ..., 184.,  97.,  83.],\n",
       "       [177., 168., 179., ..., 216., 151., 123.]])"
      ]
     },
     "execution_count": 26,
     "metadata": {},
     "output_type": "execute_result"
    }
   ],
   "source": [
    "x1[:,:,0]"
   ]
  },
  {
   "cell_type": "code",
   "execution_count": 90,
   "metadata": {},
   "outputs": [],
   "source": [
    "X_train = np.reshape(X_train, (X_train.shape[0],-1))\n"
   ]
  },
  {
   "cell_type": "code",
   "execution_count": 145,
   "metadata": {},
   "outputs": [],
   "source": [
    "X = X_train.copy()"
   ]
  },
  {
   "cell_type": "code",
   "execution_count": 146,
   "metadata": {},
   "outputs": [],
   "source": [
    "X_mean = np.mean(X,axis=0)\n",
    "X -= X_mean"
   ]
  },
  {
   "cell_type": "code",
   "execution_count": 147,
   "metadata": {},
   "outputs": [],
   "source": [
    "cov = np.dot(X.T, X) / X.shape[0]"
   ]
  },
  {
   "cell_type": "code",
   "execution_count": 148,
   "metadata": {},
   "outputs": [],
   "source": [
    "U,S,V = np.linalg.svd(cov)"
   ]
  },
  {
   "cell_type": "code",
   "execution_count": 149,
   "metadata": {},
   "outputs": [],
   "source": [
    "X += X_mean"
   ]
  },
  {
   "cell_type": "code",
   "execution_count": 171,
   "metadata": {},
   "outputs": [],
   "source": [
    "X_rot = np.dot(X[:100], U[:,:10])"
   ]
  },
  {
   "cell_type": "code",
   "execution_count": 172,
   "metadata": {},
   "outputs": [
    {
     "data": {
      "text/plain": [
       "(100, 3072)"
      ]
     },
     "execution_count": 172,
     "metadata": {},
     "output_type": "execute_result"
    }
   ],
   "source": [
    "X1 = np.dot(X_rot[:100],U.T[:10,:])\n",
    "X1.shape"
   ]
  },
  {
   "cell_type": "code",
   "execution_count": 173,
   "metadata": {},
   "outputs": [],
   "source": [
    "x1 = X1[2].reshape(32,32,3).copy()"
   ]
  },
  {
   "cell_type": "code",
   "execution_count": 174,
   "metadata": {},
   "outputs": [
    {
     "data": {
      "text/plain": [
       "<matplotlib.image.AxesImage at 0x108b1e6d8>"
      ]
     },
     "execution_count": 174,
     "metadata": {},
     "output_type": "execute_result"
    },
    {
     "data": {
      "image/png": "[encoded data removed]",
      "text/plain": [
       "<Figure size 432x288 with 1 Axes>"
      ]
     },
     "metadata": {},
     "output_type": "display_data"
    }
   ],
   "source": [
    "plt.imshow(x1.astype('uint8'))"
   ]
  },
  {
   "cell_type": "code",
   "execution_count": 129,
   "metadata": {},
   "outputs": [],
   "source": [
    "x0 = X_train[2].reshape(32,32,3)"
   ]
  },
  {
   "cell_type": "code",
   "execution_count": 130,
   "metadata": {
    "scrolled": true
   },
   "outputs": [
    {
     "data": {
      "text/plain": [
       "<matplotlib.image.AxesImage at 0x1085d1978>"
      ]
     },
     "execution_count": 130,
     "metadata": {},
     "output_type": "execute_result"
    },
    {
     "data": {
      "image/png": "[encoded data removed]",
      "text/plain": [
       "<Figure size 432x288 with 1 Axes>"
      ]
     },
     "metadata": {},
     "output_type": "display_data"
    }
   ],
   "source": [
    "plt.imshow(x0.astype('uint8'))"
   ]
  },
  {
   "cell_type": "code",
   "execution_count": 4,
   "metadata": {},
   "outputs": [
    {
     "name": "stdout",
     "output_type": "stream",
     "text": [
      "Testing affine_forward function:\n",
      "difference:  9.7698500479884e-10\n"
     ]
    }
   ],
   "source": [
    "# Test the affine_forward function\n",
    "\n",
    "num_inputs = 2\n",
    "input_shape = (4, 5, 6)\n",
    "output_dim = 3\n",
    "\n",
    "input_size = num_inputs * np.prod(input_shape)\n",
    "weight_size = output_dim * np.prod(input_shape)\n",
    "\n",
    "x = np.linspace(-0.1, 0.5, num=input_size).reshape(num_inputs, *input_shape)\n",
    "w = np.linspace(-0.2, 0.3, num=weight_size).reshape(np.prod(input_shape), output_dim)\n",
    "b = np.linspace(-0.3, 0.1, num=output_dim)\n",
    "\n",
    "out, _ = affine_forward(x, w, b)\n",
    "correct_out = np.array([[ 1.49834967,  1.70660132,  1.91485297],\n",
    "                        [ 3.25553199,  3.5141327,   3.77273342]])\n",
    "\n",
    "# Compare your output with ours. The error should be around e-9 or less.\n",
    "print('Testing affine_forward function:')\n",
    "print('difference: ', rel_error(out, correct_out))"
   ]
  },
  {
   "cell_type": "markdown",
   "metadata": {},
   "source": [
    "# Affine layer: backward\n",
    "Now implement the `affine_backward` function and test your implementation using numeric gradient checking."
   ]
  },
  {
   "cell_type": "code",
   "execution_count": 32,
   "metadata": {},
   "outputs": [
    {
     "name": "stdout",
     "output_type": "stream",
     "text": [
      "Testing affine_backward function:\n",
      "dx error:  6.986348504372948e-11\n",
      "dw error:  9.904023583987626e-11\n",
      "db error:  7.736978834487815e-12\n"
     ]
    }
   ],
   "source": [
    "# Test the affine_backward function\n",
    "np.random.seed(231)\n",
    "x = np.random.randn(10, 2, 3)\n",
    "w = np.random.randn(6, 5)\n",
    "b = np.random.randn(5)\n",
    "dout = np.random.randn(10, 5)\n",
    "\n",
    "dx_num = eval_numerical_gradient_array(lambda x: affine_forward(x, w, b)[0], x, dout)\n",
    "dw_num = eval_numerical_gradient_array(lambda w: affine_forward(x, w, b)[0], w, dout)\n",
    "db_num = eval_numerical_gradient_array(lambda b: affine_forward(x, w, b)[0], b, dout)\n",
    "\n",
    "_, cache = affine_forward(x, w, b)\n",
    "dx, dw, db = affine_backward(dout, cache)\n",
    "\n",
    "# The error should be around e-10 or less\n",
    "print('Testing affine_backward function:')\n",
    "print('dx error: ', rel_error(dx_num, dx))\n",
    "print('dw error: ', rel_error(dw_num, dw))\n",
    "print('db error: ', rel_error(db_num, db))"
   ]
  },
  {
   "cell_type": "markdown",
   "metadata": {},
   "source": [
    "# ReLU activation: forward\n",
    "Implement the forward pass for the ReLU activation function in the `relu_forward` function and test your implementation using the following:"
   ]
  },
  {
   "cell_type": "code",
   "execution_count": 33,
   "metadata": {},
   "outputs": [
    {
     "name": "stdout",
     "output_type": "stream",
     "text": [
      "Testing relu_forward function:\n",
      "difference:  4.999999798022158e-08\n"
     ]
    }
   ],
   "source": [
    "# Test the relu_forward function\n",
    "\n",
    "x = np.linspace(-0.5, 0.5, num=12).reshape(3, 4)\n",
    "\n",
    "out, _ = relu_forward(x)\n",
    "correct_out = np.array([[ 0.,          0.,          0.,          0.,        ],\n",
    "                        [ 0.,          0.,          0.04545455,  0.13636364,],\n",
    "                        [ 0.22727273,  0.31818182,  0.40909091,  0.5,       ]])\n",
    "\n",
    "# Compare your output with ours. The error should be on the order of e-8\n",
    "print('Testing relu_forward function:')\n",
    "print('difference: ', rel_error(out, correct_out))"
   ]
  },
  {
   "cell_type": "markdown",
   "metadata": {},
   "source": [
    "# ReLU activation: backward\n",
    "Now implement the backward pass for the ReLU activation function in the `relu_backward` function and test your implementation using numeric gradient checking:"
   ]
  },
  {
   "cell_type": "code",
   "execution_count": 34,
   "metadata": {},
   "outputs": [
    {
     "name": "stdout",
     "output_type": "stream",
     "text": [
      "Testing relu_backward function:\n",
      "dx error:  3.2756349136310288e-12\n"
     ]
    }
   ],
   "source": [
    "np.random.seed(231)\n",
    "x = np.random.randn(10, 10)\n",
    "dout = np.random.randn(*x.shape)\n",
    "\n",
    "dx_num = eval_numerical_gradient_array(lambda x: relu_forward(x)[0], x, dout)\n",
    "\n",
    "_, cache = relu_forward(x)\n",
    "dx = relu_backward(dout, cache)\n",
    "\n",
    "# The error should be on the order of e-12\n",
    "print('Testing relu_backward function:')\n",
    "print('dx error: ', rel_error(dx_num, dx))"
   ]
  },
  {
   "cell_type": "markdown",
   "metadata": {},
   "source": [
    "## Inline Question 1: \n",
    "\n",
    "We've only asked you to implement ReLU, but there are a number of different activation functions that one could use in neural networks, each with its pros and cons. In particular, an issue commonly seen with activation functions is getting zero (or close to zero) gradient flow during backpropagation. Which of the following activation functions have this problem? If you consider these functions in the one dimensional case, what types of input would lead to this behaviour?\n",
    "1. Sigmoid\n",
    "2. ReLU\n",
    "3. Leaky ReLU"
   ]
  },
  {
   "cell_type": "markdown",
   "metadata": {},
   "source": [
    "## Answer:\n",
    "[sigmoid]\n"
   ]
  },
  {
   "cell_type": "markdown",
   "metadata": {},
   "source": [
    "# \"Sandwich\" layers\n",
    "There are some common patterns of layers that are frequently used in neural nets. For example, affine layers are frequently followed by a ReLU nonlinearity. To make these common patterns easy, we define several convenience layers in the file `cs231n/layer_utils.py`.\n",
    "\n",
    "For now take a look at the `affine_relu_forward` and `affine_relu_backward` functions, and run the following to numerically gradient check the backward pass:"
   ]
  },
  {
   "cell_type": "code",
   "execution_count": 35,
   "metadata": {},
   "outputs": [
    {
     "name": "stdout",
     "output_type": "stream",
     "text": [
      "Testing affine_relu_forward and affine_relu_backward:\n",
      "dx error:  3.143474713685874e-11\n",
      "dw error:  1.486123845798551e-10\n",
      "db error:  7.826724021458994e-12\n"
     ]
    }
   ],
   "source": [
    "from cs231n.layer_utils import affine_relu_forward, affine_relu_backward\n",
    "np.random.seed(231)\n",
    "x = np.random.randn(2, 3, 4)\n",
    "w = np.random.randn(12, 10)\n",
    "b = np.random.randn(10)\n",
    "dout = np.random.randn(2, 10)\n",
    "\n",
    "out, cache = affine_relu_forward(x, w, b)\n",
    "dx, dw, db = affine_relu_backward(dout, cache)\n",
    "\n",
    "dx_num = eval_numerical_gradient_array(lambda x: affine_relu_forward(x, w, b)[0], x, dout)\n",
    "dw_num = eval_numerical_gradient_array(lambda w: affine_relu_forward(x, w, b)[0], w, dout)\n",
    "db_num = eval_numerical_gradient_array(lambda b: affine_relu_forward(x, w, b)[0], b, dout)\n",
    "\n",
    "# Relative error should be around e-10 or less\n",
    "print('Testing affine_relu_forward and affine_relu_backward:')\n",
    "print('dx error: ', rel_error(dx_num, dx))\n",
    "print('dw error: ', rel_error(dw_num, dw))\n",
    "print('db error: ', rel_error(db_num, db))"
   ]
  },
  {
   "cell_type": "markdown",
   "metadata": {},
   "source": [
    "# Loss layers: Softmax and SVM\n",
    "You implemented these loss functions in the last assignment, so we'll give them to you for free here. You should still make sure you understand how they work by looking at the implementations in `cs231n/layers.py`.\n",
    "\n",
    "You can make sure that the implementations are correct by running the following:"
   ]
  },
  {
   "cell_type": "code",
   "execution_count": 36,
   "metadata": {},
   "outputs": [
    {
     "name": "stdout",
     "output_type": "stream",
     "text": [
      "Testing svm_loss:\n",
      "loss:  8.999602749096233\n",
      "dx error:  1.4021566006651672e-09\n",
      "\n",
      "Testing softmax_loss:\n",
      "loss:  2.302545844500738\n",
      "dx error:  9.384673161989355e-09\n"
     ]
    }
   ],
   "source": [
    "np.random.seed(231)\n",
    "num_classes, num_inputs = 10, 50\n",
    "x = 0.001 * np.random.randn(num_inputs, num_classes)\n",
    "y = np.random.randint(num_classes, size=num_inputs)\n",
    "\n",
    "dx_num = eval_numerical_gradient(lambda x: svm_loss(x, y)[0], x, verbose=False)\n",
    "loss, dx = svm_loss(x, y)\n",
    "\n",
    "# Test svm_loss function. Loss should be around 9 and dx error should be around the order of e-9\n",
    "print('Testing svm_loss:')\n",
    "print('loss: ', loss)\n",
    "print('dx error: ', rel_error(dx_num, dx))\n",
    "\n",
    "dx_num = eval_numerical_gradient(lambda x: softmax_loss(x, y)[0], x, verbose=False)\n",
    "loss, dx = softmax_loss(x, y)\n",
    "\n",
    "# Test softmax_loss function. Loss should be close to 2.3 and dx error should be around e-8\n",
    "print('\\nTesting softmax_loss:')\n",
    "print('loss: ', loss)\n",
    "print('dx error: ', rel_error(dx_num, dx))"
   ]
  },
  {
   "cell_type": "markdown",
   "metadata": {},
   "source": [
    "# Two-layer network\n",
    "In the previous assignment you implemented a two-layer neural network in a single monolithic class. Now that you have implemented modular versions of the necessary layers, you will reimplement the two layer network using these modular implementations.\n",
    "\n",
    "Open the file `cs231n/classifiers/fc_net.py` and complete the implementation of the `TwoLayerNet` class. This class will serve as a model for the other networks you will implement in this assignment, so read through it to make sure you understand the API. You can run the cell below to test your implementation."
   ]
  },
  {
   "cell_type": "code",
   "execution_count": 44,
   "metadata": {},
   "outputs": [
    {
     "name": "stdout",
     "output_type": "stream",
     "text": [
      "Testing initialization ... \n",
      "Testing test-time forward pass ... \n",
      "Testing training loss (no regularization)\n",
      "Running numeric gradient check with reg =  0.0\n",
      "W1 relative error: 2.13e-08\n",
      "W2 relative error: 3.31e-10\n",
      "b1 relative error: 8.37e-09\n",
      "b2 relative error: 2.53e-10\n",
      "Running numeric gradient check with reg =  0.7\n",
      "W1 relative error: 2.53e-07\n",
      "W2 relative error: 2.85e-08\n",
      "b1 relative error: 1.56e-08\n",
      "b2 relative error: 9.09e-10\n"
     ]
    }
   ],
   "source": [
    "np.random.seed(231)\n",
    "N, D, H, C = 3, 5, 50, 7\n",
    "X = np.random.randn(N, D)\n",
    "y = np.random.randint(C, size=N)\n",
    "\n",
    "std = 1e-3\n",
    "model = TwoLayerNet(input_dim=D, hidden_dim=H, num_classes=C, weight_scale=std)\n",
    "\n",
    "print('Testing initialization ... ')\n",
    "W1_std = abs(model.params['W1'].std() - std)\n",
    "b1 = model.params['b1']\n",
    "W2_std = abs(model.params['W2'].std() - std)\n",
    "b2 = model.params['b2']\n",
    "assert W1_std < std / 10, 'First layer weights do not seem right'\n",
    "assert np.all(b1 == 0), 'First layer biases do not seem right'\n",
    "assert W2_std < std / 10, 'Second layer weights do not seem right'\n",
    "assert np.all(b2 == 0), 'Second layer biases do not seem right'\n",
    "\n",
    "print('Testing test-time forward pass ... ')\n",
    "model.params['W1'] = np.linspace(-0.7, 0.3, num=D*H).reshape(D, H)\n",
    "model.params['b1'] = np.linspace(-0.1, 0.9, num=H)\n",
    "model.params['W2'] = np.linspace(-0.3, 0.4, num=H*C).reshape(H, C)\n",
    "model.params['b2'] = np.linspace(-0.9, 0.1, num=C)\n",
    "X = np.linspace(-5.5, 4.5, num=N*D).reshape(D, N).T\n",
    "scores = model.loss(X)\n",
    "correct_scores = np.asarray(\n",
    "  [[11.53165108,  12.2917344,   13.05181771,  13.81190102,  14.57198434, 15.33206765,  16.09215096],\n",
    "   [12.05769098,  12.74614105,  13.43459113,  14.1230412,   14.81149128, 15.49994135,  16.18839143],\n",
    "   [12.58373087,  13.20054771,  13.81736455,  14.43418138,  15.05099822, 15.66781506,  16.2846319 ]])\n",
    "scores_diff = np.abs(scores - correct_scores).sum()\n",
    "assert scores_diff < 1e-6, 'Problem with test-time forward pass'\n",
    "\n",
    "print('Testing training loss (no regularization)')\n",
    "y = np.asarray([0, 5, 1])\n",
    "loss, grads = model.loss(X, y)\n",
    "correct_loss = 3.4702243556\n",
    "assert abs(loss - correct_loss) < 1e-10, 'Problem with training-time loss'\n",
    "\n",
    "model.reg = 1.0\n",
    "loss, grads = model.loss(X, y)\n",
    "correct_loss = 26.5948426952\n",
    "assert abs(loss - correct_loss) < 1e-10, 'Problem with regularization loss'\n",
    "\n",
    "# Errors should be around e-7 or less\n",
    "for reg in [0.0, 0.7]:\n",
    "  print('Running numeric gradient check with reg = ', reg)\n",
    "  model.reg = reg\n",
    "  loss, grads = model.loss(X, y)\n",
    "\n",
    "  for name in sorted(grads):\n",
    "    f = lambda _: model.loss(X, y)[0]\n",
    "    grad_num = eval_numerical_gradient(f, model.params[name], verbose=False)\n",
    "    print('%s relative error: %.2e' % (name, rel_error(grad_num, grads[name])))"
   ]
  },
  {
   "cell_type": "code",
   "execution_count": 46,
   "metadata": {},
   "outputs": [
    {
     "data": {
      "text/plain": [
       "3.707050209523599e-05"
      ]
     },
     "execution_count": 46,
     "metadata": {},
     "output_type": "execute_result"
    }
   ],
   "source": [
    "W2_std"
   ]
  },
  {
   "cell_type": "markdown",
   "metadata": {},
   "source": [
    "# Solver\n",
    "In the previous assignment, the logic for training models was coupled to the models themselves. Following a more modular design, for this assignment we have split the logic for training models into a separate class.\n",
    "\n",
    "Open the file `cs231n/solver.py` and read through it to familiarize yourself with the API. After doing so, use a `Solver` instance to train a `TwoLayerNet` that achieves at least `50%` accuracy on the validation set."
   ]
  },
  {
   "cell_type": "code",
   "execution_count": 47,
   "metadata": {},
   "outputs": [
    {
     "name": "stdout",
     "output_type": "stream",
     "text": [
      "(Iteration 1 / 4900) loss: 2.304060\n",
      "(Epoch 0 / 10) train acc: 0.138000; val_acc: 0.140000\n",
      "(Iteration 11 / 4900) loss: 694909.626889\n",
      "(Iteration 21 / 4900) loss: 20689359097472788.000000\n",
      "(Iteration 31 / 4900) loss: 753836843432259279243968512.000000\n",
      "(Iteration 41 / 4900) loss: 1652554426685847497458598483482116096.000000\n",
      "(Iteration 51 / 4900) loss: 188103743606813812152033550956354728899962208256.000000\n",
      "(Iteration 61 / 4900) loss: 2914180018137471552724563137214521384043056121152668696576.000000\n",
      "(Iteration 71 / 4900) loss: 41192855613856119067176216252756624044381021309480718877512479801344.000000\n",
      "(Iteration 81 / 4900) loss: 2092289434788803933107632076748054542605901967600302056120494371169981624745984.000000\n",
      "(Iteration 91 / 4900) loss: 111089481738452730926894566098496135380111602920871555904212008132868164356856491731320832.000000\n",
      "(Iteration 101 / 4900) loss: 4442436422388338487674277239717035431919026881074168643763901710891599791119408059368139364451221504.000000\n",
      "(Iteration 111 / 4900) loss: 311765523954395487000360158905671488341900966763811940329434085089299830404399208694870274336449386430813175808.000000\n",
      "(Iteration 121 / 4900) loss: 547003345522658165430818442798631959834648869085469345657999145549729265028805173575974233340012131786265743642006126592.000000\n",
      "(Iteration 131 / 4900) loss: 47167512960101225192252725954883361235876821410137421824562226710780363383765976394953448465826010987417407936667092641324770263040.000000\n",
      "(Iteration 141 / 4900) loss: 14935994540743958561267554835724516221880693319597678042974697956835553483725193243651368641224544650255468098240202778712668165290105648447488.000000\n",
      "(Iteration 151 / 4900) loss: 1860341241449616079899682776648828188340055087048419875566619502701456696817798248416697746131692884072648605262069124861435924980652037728282036653785088.000000\n",
      "(Iteration 161 / 4900) loss: 142377180406213640922803184315535270705436349004652193677550754933747995429664303896142044599038467142737645480354985530293095550046699682109507211417246335120703488.000000\n",
      "(Iteration 171 / 4900) loss: 737011704501990547805442329865418740284902547395717788126508831704760945219812464865871070980599891778633829811338628442550310823461936025088397416524506263963201534315986944.000000\n",
      "(Iteration 181 / 4900) loss: 40370805780850863626117400206338167768532414246425789019084323588429520156543171258706333529643293802660955026673725750069285417411599879086158285920162599287980072225428291729684955136.000000\n",
      "(Iteration 191 / 4900) loss: 829154106642757766041710312022455525784540069761087045293069059199027642835347693734348152035544281235772337780943819738643398490186722855082868122601657005017276238872280502029354162752575242240.000000\n",
      "(Iteration 201 / 4900) loss: 349166418116832463585934154207463846247348511831855296069944523320058475244249259346041737367056561485098382224070345009969748479327458582445248869859429784081475515271787351147043930783365833293748502528.000000\n",
      "(Iteration 211 / 4900) loss: 4435671692561052546782212834258992217615789621945433237200575854631373579287818881800889499254260724473149447587900134603611139387992740803826264735265276190664800254355380621254094520757821751881934046361223692288.000000\n",
      "(Iteration 221 / 4900) loss: 24865348387849688848549389478907059981810569631259015271815811956307030835600446471017244551242431188397620691917419482952303627722283117465376896696158359777734745314522395173519425135637809688683344295501536857582819344384.000000\n",
      "(Iteration 231 / 4900) loss: 222197904923137665718110838497996481098261772697711046625899634924776014974050910906613358049533090435816819278011484062920622417102211247856505521785192624738450834584139384554917025282628294992980069956545186247459630338948900847616.000000\n",
      "(Iteration 241 / 4900) loss: 19747929490288997158478684470593876335174428868888755380045417802953332208722209498469428604978100042792362523941632823479945053349130884517203832464172573786661766968043939341117073685190733702340752709102699699335697399339055425573293695959040.000000\n",
      "(Iteration 251 / 4900) loss: 386232073768178767870601034970263063008590187257541299480680771693894857091676630294959612893955292146093007435746110380112482271803493751975560216030152306615926708703854137228762165920573010472568814794888675564411504089796255206305755983717314219474944.000000\n",
      "(Iteration 261 / 4900) loss: 6785061832027141228987899223647515110543074204565330214076651863652149430315420553665407441017666189904472973112049318830739330973976470331123128748466920847030028616544675967168020706322300651704060757910319604686808973872556121801123818772172323682300586180476928.000000\n",
      "(Iteration 271 / 4900) loss: 615177809277079135249667205728615519523383147317058701925500651828348230378614744048634245308565171404475744180005672876500142814642188260001255083020575095512082243779772524013116423666493428719375026157631491015379611773030296560192229933928012711939192288066159452159475712.000000\n",
      "(Iteration 281 / 4900) loss: 149001452770993219549824244339903781485330185462194069247894495220396510186271323147078766559074325770058464636598717129462452482303877015071013679293609423528292256113053976550155261461948517517094725066922681725383917777215440206421289177826588716547231953545914055119355646559593168896.000000\n",
      "(Iteration 291 / 4900) loss: 1396757790166324523794850757368183414782099663951760062091130505373697033602419823821509342549499928053872806259001295239374449373452278787879016249998857325122354794769228003069037184536996303888058305775141995146851781956641039687442222515056324451236085556834394063584846272259655506412982763520.000000\n"
     ]
    },
    {
     "name": "stderr",
     "output_type": "stream",
     "text": [
      "/Users/lovelyfrog/机器学习/cs231/spring1718_assignment2_v2/cs231n/layers.py:717: RuntimeWarning: overflow encountered in subtract\n",
      "  shifted_logits = x - np.max(x, axis=1, keepdims=True)\n",
      "/usr/local/lib/python3.6/site-packages/numpy/core/_methods.py:32: RuntimeWarning: overflow encountered in reduce\n",
      "  return umr_sum(a, axis, dtype, out, keepdims)\n",
      "/Users/lovelyfrog/机器学习/cs231/spring1718_assignment2_v2/cs231n/layers.py:717: RuntimeWarning: invalid value encountered in subtract\n",
      "  shifted_logits = x - np.max(x, axis=1, keepdims=True)\n",
      "/Users/lovelyfrog/机器学习/cs231/spring1718_assignment2_v2/cs231n/layers.py:86: RuntimeWarning: invalid value encountered in maximum\n",
      "  out = np.maximum(0, x)\n",
      "/usr/local/lib/python3.6/site-packages/numpy/core/_methods.py:26: RuntimeWarning: invalid value encountered in reduce\n",
      "  return umr_maximum(a, axis, None, out, keepdims)\n",
      "/Users/lovelyfrog/机器学习/cs231/spring1718_assignment2_v2/cs231n/layers.py:109: RuntimeWarning: invalid value encountered in greater\n",
      "  flag = x > 0\n"
     ]
    },
    {
     "name": "stdout",
     "output_type": "stream",
     "text": [
      "(Iteration 301 / 4900) loss: nan\n",
      "(Iteration 311 / 4900) loss: nan\n",
      "(Iteration 321 / 4900) loss: nan\n",
      "(Iteration 331 / 4900) loss: nan\n",
      "(Iteration 341 / 4900) loss: nan\n",
      "(Iteration 351 / 4900) loss: nan\n",
      "(Iteration 361 / 4900) loss: nan\n",
      "(Iteration 371 / 4900) loss: nan\n",
      "(Iteration 381 / 4900) loss: nan\n",
      "(Iteration 391 / 4900) loss: nan\n",
      "(Iteration 401 / 4900) loss: nan\n",
      "(Iteration 411 / 4900) loss: nan\n",
      "(Iteration 421 / 4900) loss: nan\n",
      "(Iteration 431 / 4900) loss: nan\n",
      "(Iteration 441 / 4900) loss: nan\n",
      "(Iteration 451 / 4900) loss: nan\n",
      "(Iteration 461 / 4900) loss: nan\n",
      "(Iteration 471 / 4900) loss: nan\n",
      "(Iteration 481 / 4900) loss: nan\n",
      "(Epoch 1 / 10) train acc: 0.091000; val_acc: 0.087000\n",
      "(Iteration 491 / 4900) loss: nan\n",
      "(Iteration 501 / 4900) loss: nan\n",
      "(Iteration 511 / 4900) loss: nan\n",
      "(Iteration 521 / 4900) loss: nan\n",
      "(Iteration 531 / 4900) loss: nan\n",
      "(Iteration 541 / 4900) loss: nan\n",
      "(Iteration 551 / 4900) loss: nan\n",
      "(Iteration 561 / 4900) loss: nan\n",
      "(Iteration 571 / 4900) loss: nan\n",
      "(Iteration 581 / 4900) loss: nan\n",
      "(Iteration 591 / 4900) loss: nan\n",
      "(Iteration 601 / 4900) loss: nan\n",
      "(Iteration 611 / 4900) loss: nan\n",
      "(Iteration 621 / 4900) loss: nan\n",
      "(Iteration 631 / 4900) loss: nan\n",
      "(Iteration 641 / 4900) loss: nan\n",
      "(Iteration 651 / 4900) loss: nan\n",
      "(Iteration 661 / 4900) loss: nan\n",
      "(Iteration 671 / 4900) loss: nan\n",
      "(Iteration 681 / 4900) loss: nan\n",
      "(Iteration 691 / 4900) loss: nan\n",
      "(Iteration 701 / 4900) loss: nan\n",
      "(Iteration 711 / 4900) loss: nan\n",
      "(Iteration 721 / 4900) loss: nan\n",
      "(Iteration 731 / 4900) loss: nan\n",
      "(Iteration 741 / 4900) loss: nan\n",
      "(Iteration 751 / 4900) loss: nan\n",
      "(Iteration 761 / 4900) loss: nan\n",
      "(Iteration 771 / 4900) loss: nan\n",
      "(Iteration 781 / 4900) loss: nan\n",
      "(Iteration 791 / 4900) loss: nan\n",
      "(Iteration 801 / 4900) loss: nan\n",
      "(Iteration 811 / 4900) loss: nan\n",
      "(Iteration 821 / 4900) loss: nan\n",
      "(Iteration 831 / 4900) loss: nan\n",
      "(Iteration 841 / 4900) loss: nan\n",
      "(Iteration 851 / 4900) loss: nan\n",
      "(Iteration 861 / 4900) loss: nan\n",
      "(Iteration 871 / 4900) loss: nan\n",
      "(Iteration 881 / 4900) loss: nan\n",
      "(Iteration 891 / 4900) loss: nan\n",
      "(Iteration 901 / 4900) loss: nan\n",
      "(Iteration 911 / 4900) loss: nan\n",
      "(Iteration 921 / 4900) loss: nan\n",
      "(Iteration 931 / 4900) loss: nan\n",
      "(Iteration 941 / 4900) loss: nan\n",
      "(Iteration 951 / 4900) loss: nan\n",
      "(Iteration 961 / 4900) loss: nan\n",
      "(Iteration 971 / 4900) loss: nan\n",
      "(Epoch 2 / 10) train acc: 0.103000; val_acc: 0.087000\n",
      "(Iteration 981 / 4900) loss: nan\n",
      "(Iteration 991 / 4900) loss: nan\n",
      "(Iteration 1001 / 4900) loss: nan\n",
      "(Iteration 1011 / 4900) loss: nan\n",
      "(Iteration 1021 / 4900) loss: nan\n",
      "(Iteration 1031 / 4900) loss: nan\n",
      "(Iteration 1041 / 4900) loss: nan\n",
      "(Iteration 1051 / 4900) loss: nan\n",
      "(Iteration 1061 / 4900) loss: nan\n",
      "(Iteration 1071 / 4900) loss: nan\n",
      "(Iteration 1081 / 4900) loss: nan\n",
      "(Iteration 1091 / 4900) loss: nan\n",
      "(Iteration 1101 / 4900) loss: nan\n",
      "(Iteration 1111 / 4900) loss: nan\n",
      "(Iteration 1121 / 4900) loss: nan\n",
      "(Iteration 1131 / 4900) loss: nan\n",
      "(Iteration 1141 / 4900) loss: nan\n",
      "(Iteration 1151 / 4900) loss: nan\n",
      "(Iteration 1161 / 4900) loss: nan\n",
      "(Iteration 1171 / 4900) loss: nan\n",
      "(Iteration 1181 / 4900) loss: nan\n",
      "(Iteration 1191 / 4900) loss: nan\n",
      "(Iteration 1201 / 4900) loss: nan\n",
      "(Iteration 1211 / 4900) loss: nan\n",
      "(Iteration 1221 / 4900) loss: nan\n",
      "(Iteration 1231 / 4900) loss: nan\n",
      "(Iteration 1241 / 4900) loss: nan\n",
      "(Iteration 1251 / 4900) loss: nan\n",
      "(Iteration 1261 / 4900) loss: nan\n",
      "(Iteration 1271 / 4900) loss: nan\n",
      "(Iteration 1281 / 4900) loss: nan\n",
      "(Iteration 1291 / 4900) loss: nan\n",
      "(Iteration 1301 / 4900) loss: nan\n",
      "(Iteration 1311 / 4900) loss: nan\n",
      "(Iteration 1321 / 4900) loss: nan\n",
      "(Iteration 1331 / 4900) loss: nan\n",
      "(Iteration 1341 / 4900) loss: nan\n",
      "(Iteration 1351 / 4900) loss: nan\n",
      "(Iteration 1361 / 4900) loss: nan\n",
      "(Iteration 1371 / 4900) loss: nan\n",
      "(Iteration 1381 / 4900) loss: nan\n",
      "(Iteration 1391 / 4900) loss: nan\n",
      "(Iteration 1401 / 4900) loss: nan\n",
      "(Iteration 1411 / 4900) loss: nan\n",
      "(Iteration 1421 / 4900) loss: nan\n",
      "(Iteration 1431 / 4900) loss: nan\n",
      "(Iteration 1441 / 4900) loss: nan\n",
      "(Iteration 1451 / 4900) loss: nan\n",
      "(Iteration 1461 / 4900) loss: nan\n",
      "(Epoch 3 / 10) train acc: 0.091000; val_acc: 0.087000\n",
      "(Iteration 1471 / 4900) loss: nan\n",
      "(Iteration 1481 / 4900) loss: nan\n",
      "(Iteration 1491 / 4900) loss: nan\n",
      "(Iteration 1501 / 4900) loss: nan\n",
      "(Iteration 1511 / 4900) loss: nan\n",
      "(Iteration 1521 / 4900) loss: nan\n",
      "(Iteration 1531 / 4900) loss: nan\n",
      "(Iteration 1541 / 4900) loss: nan\n",
      "(Iteration 1551 / 4900) loss: nan\n",
      "(Iteration 1561 / 4900) loss: nan\n",
      "(Iteration 1571 / 4900) loss: nan\n",
      "(Iteration 1581 / 4900) loss: nan\n",
      "(Iteration 1591 / 4900) loss: nan\n",
      "(Iteration 1601 / 4900) loss: nan\n",
      "(Iteration 1611 / 4900) loss: nan\n",
      "(Iteration 1621 / 4900) loss: nan\n",
      "(Iteration 1631 / 4900) loss: nan\n",
      "(Iteration 1641 / 4900) loss: nan\n",
      "(Iteration 1651 / 4900) loss: nan\n",
      "(Iteration 1661 / 4900) loss: nan\n",
      "(Iteration 1671 / 4900) loss: nan\n",
      "(Iteration 1681 / 4900) loss: nan\n",
      "(Iteration 1691 / 4900) loss: nan\n",
      "(Iteration 1701 / 4900) loss: nan\n",
      "(Iteration 1711 / 4900) loss: nan\n",
      "(Iteration 1721 / 4900) loss: nan\n",
      "(Iteration 1731 / 4900) loss: nan\n",
      "(Iteration 1741 / 4900) loss: nan\n",
      "(Iteration 1751 / 4900) loss: nan\n",
      "(Iteration 1761 / 4900) loss: nan\n",
      "(Iteration 1771 / 4900) loss: nan\n",
      "(Iteration 1781 / 4900) loss: nan\n",
      "(Iteration 1791 / 4900) loss: nan\n",
      "(Iteration 1801 / 4900) loss: nan\n",
      "(Iteration 1811 / 4900) loss: nan\n",
      "(Iteration 1821 / 4900) loss: nan\n",
      "(Iteration 1831 / 4900) loss: nan\n",
      "(Iteration 1841 / 4900) loss: nan\n",
      "(Iteration 1851 / 4900) loss: nan\n",
      "(Iteration 1861 / 4900) loss: nan\n",
      "(Iteration 1871 / 4900) loss: nan\n",
      "(Iteration 1881 / 4900) loss: nan\n",
      "(Iteration 1891 / 4900) loss: nan\n",
      "(Iteration 1901 / 4900) loss: nan\n",
      "(Iteration 1911 / 4900) loss: nan\n",
      "(Iteration 1921 / 4900) loss: nan\n",
      "(Iteration 1931 / 4900) loss: nan\n",
      "(Iteration 1941 / 4900) loss: nan\n",
      "(Iteration 1951 / 4900) loss: nan\n",
      "(Epoch 4 / 10) train acc: 0.104000; val_acc: 0.087000\n",
      "(Iteration 1961 / 4900) loss: nan\n",
      "(Iteration 1971 / 4900) loss: nan\n",
      "(Iteration 1981 / 4900) loss: nan\n",
      "(Iteration 1991 / 4900) loss: nan\n",
      "(Iteration 2001 / 4900) loss: nan\n",
      "(Iteration 2011 / 4900) loss: nan\n",
      "(Iteration 2021 / 4900) loss: nan\n",
      "(Iteration 2031 / 4900) loss: nan\n",
      "(Iteration 2041 / 4900) loss: nan\n",
      "(Iteration 2051 / 4900) loss: nan\n",
      "(Iteration 2061 / 4900) loss: nan\n",
      "(Iteration 2071 / 4900) loss: nan\n",
      "(Iteration 2081 / 4900) loss: nan\n",
      "(Iteration 2091 / 4900) loss: nan\n",
      "(Iteration 2101 / 4900) loss: nan\n",
      "(Iteration 2111 / 4900) loss: nan\n",
      "(Iteration 2121 / 4900) loss: nan\n",
      "(Iteration 2131 / 4900) loss: nan\n",
      "(Iteration 2141 / 4900) loss: nan\n",
      "(Iteration 2151 / 4900) loss: nan\n",
      "(Iteration 2161 / 4900) loss: nan\n",
      "(Iteration 2171 / 4900) loss: nan\n",
      "(Iteration 2181 / 4900) loss: nan\n",
      "(Iteration 2191 / 4900) loss: nan\n",
      "(Iteration 2201 / 4900) loss: nan\n",
      "(Iteration 2211 / 4900) loss: nan\n",
      "(Iteration 2221 / 4900) loss: nan\n",
      "(Iteration 2231 / 4900) loss: nan\n",
      "(Iteration 2241 / 4900) loss: nan\n",
      "(Iteration 2251 / 4900) loss: nan\n",
      "(Iteration 2261 / 4900) loss: nan\n",
      "(Iteration 2271 / 4900) loss: nan\n",
      "(Iteration 2281 / 4900) loss: nan\n",
      "(Iteration 2291 / 4900) loss: nan\n",
      "(Iteration 2301 / 4900) loss: nan\n",
      "(Iteration 2311 / 4900) loss: nan\n",
      "(Iteration 2321 / 4900) loss: nan\n",
      "(Iteration 2331 / 4900) loss: nan\n",
      "(Iteration 2341 / 4900) loss: nan\n",
      "(Iteration 2351 / 4900) loss: nan\n",
      "(Iteration 2361 / 4900) loss: nan\n",
      "(Iteration 2371 / 4900) loss: nan\n",
      "(Iteration 2381 / 4900) loss: nan\n",
      "(Iteration 2391 / 4900) loss: nan\n",
      "(Iteration 2401 / 4900) loss: nan\n",
      "(Iteration 2411 / 4900) loss: nan\n",
      "(Iteration 2421 / 4900) loss: nan\n",
      "(Iteration 2431 / 4900) loss: nan\n",
      "(Iteration 2441 / 4900) loss: nan\n",
      "(Epoch 5 / 10) train acc: 0.096000; val_acc: 0.087000\n",
      "(Iteration 2451 / 4900) loss: nan\n",
      "(Iteration 2461 / 4900) loss: nan\n",
      "(Iteration 2471 / 4900) loss: nan\n",
      "(Iteration 2481 / 4900) loss: nan\n",
      "(Iteration 2491 / 4900) loss: nan\n",
      "(Iteration 2501 / 4900) loss: nan\n",
      "(Iteration 2511 / 4900) loss: nan\n",
      "(Iteration 2521 / 4900) loss: nan\n",
      "(Iteration 2531 / 4900) loss: nan\n",
      "(Iteration 2541 / 4900) loss: nan\n",
      "(Iteration 2551 / 4900) loss: nan\n",
      "(Iteration 2561 / 4900) loss: nan\n",
      "(Iteration 2571 / 4900) loss: nan\n",
      "(Iteration 2581 / 4900) loss: nan\n",
      "(Iteration 2591 / 4900) loss: nan\n",
      "(Iteration 2601 / 4900) loss: nan\n",
      "(Iteration 2611 / 4900) loss: nan\n",
      "(Iteration 2621 / 4900) loss: nan\n",
      "(Iteration 2631 / 4900) loss: nan\n",
      "(Iteration 2641 / 4900) loss: nan\n",
      "(Iteration 2651 / 4900) loss: nan\n"
     ]
    },
    {
     "name": "stdout",
     "output_type": "stream",
     "text": [
      "(Iteration 2661 / 4900) loss: nan\n",
      "(Iteration 2671 / 4900) loss: nan\n",
      "(Iteration 2681 / 4900) loss: nan\n",
      "(Iteration 2691 / 4900) loss: nan\n",
      "(Iteration 2701 / 4900) loss: nan\n",
      "(Iteration 2711 / 4900) loss: nan\n",
      "(Iteration 2721 / 4900) loss: nan\n",
      "(Iteration 2731 / 4900) loss: nan\n",
      "(Iteration 2741 / 4900) loss: nan\n",
      "(Iteration 2751 / 4900) loss: nan\n",
      "(Iteration 2761 / 4900) loss: nan\n",
      "(Iteration 2771 / 4900) loss: nan\n",
      "(Iteration 2781 / 4900) loss: nan\n",
      "(Iteration 2791 / 4900) loss: nan\n",
      "(Iteration 2801 / 4900) loss: nan\n",
      "(Iteration 2811 / 4900) loss: nan\n",
      "(Iteration 2821 / 4900) loss: nan\n",
      "(Iteration 2831 / 4900) loss: nan\n",
      "(Iteration 2841 / 4900) loss: nan\n",
      "(Iteration 2851 / 4900) loss: nan\n",
      "(Iteration 2861 / 4900) loss: nan\n",
      "(Iteration 2871 / 4900) loss: nan\n",
      "(Iteration 2881 / 4900) loss: nan\n",
      "(Iteration 2891 / 4900) loss: nan\n",
      "(Iteration 2901 / 4900) loss: nan\n",
      "(Iteration 2911 / 4900) loss: nan\n",
      "(Iteration 2921 / 4900) loss: nan\n",
      "(Iteration 2931 / 4900) loss: nan\n",
      "(Epoch 6 / 10) train acc: 0.104000; val_acc: 0.087000\n",
      "(Iteration 2941 / 4900) loss: nan\n",
      "(Iteration 2951 / 4900) loss: nan\n",
      "(Iteration 2961 / 4900) loss: nan\n",
      "(Iteration 2971 / 4900) loss: nan\n",
      "(Iteration 2981 / 4900) loss: nan\n",
      "(Iteration 2991 / 4900) loss: nan\n",
      "(Iteration 3001 / 4900) loss: nan\n",
      "(Iteration 3011 / 4900) loss: nan\n",
      "(Iteration 3021 / 4900) loss: nan\n",
      "(Iteration 3031 / 4900) loss: nan\n",
      "(Iteration 3041 / 4900) loss: nan\n",
      "(Iteration 3051 / 4900) loss: nan\n",
      "(Iteration 3061 / 4900) loss: nan\n",
      "(Iteration 3071 / 4900) loss: nan\n",
      "(Iteration 3081 / 4900) loss: nan\n",
      "(Iteration 3091 / 4900) loss: nan\n",
      "(Iteration 3101 / 4900) loss: nan\n",
      "(Iteration 3111 / 4900) loss: nan\n",
      "(Iteration 3121 / 4900) loss: nan\n",
      "(Iteration 3131 / 4900) loss: nan\n",
      "(Iteration 3141 / 4900) loss: nan\n",
      "(Iteration 3151 / 4900) loss: nan\n",
      "(Iteration 3161 / 4900) loss: nan\n",
      "(Iteration 3171 / 4900) loss: nan\n",
      "(Iteration 3181 / 4900) loss: nan\n",
      "(Iteration 3191 / 4900) loss: nan\n",
      "(Iteration 3201 / 4900) loss: nan\n",
      "(Iteration 3211 / 4900) loss: nan\n",
      "(Iteration 3221 / 4900) loss: nan\n",
      "(Iteration 3231 / 4900) loss: nan\n",
      "(Iteration 3241 / 4900) loss: nan\n",
      "(Iteration 3251 / 4900) loss: nan\n",
      "(Iteration 3261 / 4900) loss: nan\n",
      "(Iteration 3271 / 4900) loss: nan\n",
      "(Iteration 3281 / 4900) loss: nan\n",
      "(Iteration 3291 / 4900) loss: nan\n",
      "(Iteration 3301 / 4900) loss: nan\n",
      "(Iteration 3311 / 4900) loss: nan\n",
      "(Iteration 3321 / 4900) loss: nan\n",
      "(Iteration 3331 / 4900) loss: nan\n",
      "(Iteration 3341 / 4900) loss: nan\n",
      "(Iteration 3351 / 4900) loss: nan\n",
      "(Iteration 3361 / 4900) loss: nan\n",
      "(Iteration 3371 / 4900) loss: nan\n",
      "(Iteration 3381 / 4900) loss: nan\n",
      "(Iteration 3391 / 4900) loss: nan\n",
      "(Iteration 3401 / 4900) loss: nan\n",
      "(Iteration 3411 / 4900) loss: nan\n",
      "(Iteration 3421 / 4900) loss: nan\n",
      "(Epoch 7 / 10) train acc: 0.091000; val_acc: 0.087000\n",
      "(Iteration 3431 / 4900) loss: nan\n",
      "(Iteration 3441 / 4900) loss: nan\n",
      "(Iteration 3451 / 4900) loss: nan\n",
      "(Iteration 3461 / 4900) loss: nan\n",
      "(Iteration 3471 / 4900) loss: nan\n",
      "(Iteration 3481 / 4900) loss: nan\n",
      "(Iteration 3491 / 4900) loss: nan\n",
      "(Iteration 3501 / 4900) loss: nan\n",
      "(Iteration 3511 / 4900) loss: nan\n",
      "(Iteration 3521 / 4900) loss: nan\n",
      "(Iteration 3531 / 4900) loss: nan\n",
      "(Iteration 3541 / 4900) loss: nan\n",
      "(Iteration 3551 / 4900) loss: nan\n",
      "(Iteration 3561 / 4900) loss: nan\n",
      "(Iteration 3571 / 4900) loss: nan\n",
      "(Iteration 3581 / 4900) loss: nan\n",
      "(Iteration 3591 / 4900) loss: nan\n",
      "(Iteration 3601 / 4900) loss: nan\n",
      "(Iteration 3611 / 4900) loss: nan\n",
      "(Iteration 3621 / 4900) loss: nan\n",
      "(Iteration 3631 / 4900) loss: nan\n",
      "(Iteration 3641 / 4900) loss: nan\n",
      "(Iteration 3651 / 4900) loss: nan\n",
      "(Iteration 3661 / 4900) loss: nan\n",
      "(Iteration 3671 / 4900) loss: nan\n",
      "(Iteration 3681 / 4900) loss: nan\n",
      "(Iteration 3691 / 4900) loss: nan\n",
      "(Iteration 3701 / 4900) loss: nan\n",
      "(Iteration 3711 / 4900) loss: nan\n",
      "(Iteration 3721 / 4900) loss: nan\n",
      "(Iteration 3731 / 4900) loss: nan\n",
      "(Iteration 3741 / 4900) loss: nan\n",
      "(Iteration 3751 / 4900) loss: nan\n",
      "(Iteration 3761 / 4900) loss: nan\n",
      "(Iteration 3771 / 4900) loss: nan\n",
      "(Iteration 3781 / 4900) loss: nan\n",
      "(Iteration 3791 / 4900) loss: nan\n",
      "(Iteration 3801 / 4900) loss: nan\n",
      "(Iteration 3811 / 4900) loss: nan\n",
      "(Iteration 3821 / 4900) loss: nan\n",
      "(Iteration 3831 / 4900) loss: nan\n",
      "(Iteration 3841 / 4900) loss: nan\n",
      "(Iteration 3851 / 4900) loss: nan\n",
      "(Iteration 3861 / 4900) loss: nan\n",
      "(Iteration 3871 / 4900) loss: nan\n",
      "(Iteration 3881 / 4900) loss: nan\n",
      "(Iteration 3891 / 4900) loss: nan\n",
      "(Iteration 3901 / 4900) loss: nan\n",
      "(Iteration 3911 / 4900) loss: nan\n",
      "(Epoch 8 / 10) train acc: 0.103000; val_acc: 0.087000\n",
      "(Iteration 3921 / 4900) loss: nan\n",
      "(Iteration 3931 / 4900) loss: nan\n",
      "(Iteration 3941 / 4900) loss: nan\n",
      "(Iteration 3951 / 4900) loss: nan\n",
      "(Iteration 3961 / 4900) loss: nan\n",
      "(Iteration 3971 / 4900) loss: nan\n",
      "(Iteration 3981 / 4900) loss: nan\n",
      "(Iteration 3991 / 4900) loss: nan\n",
      "(Iteration 4001 / 4900) loss: nan\n",
      "(Iteration 4011 / 4900) loss: nan\n",
      "(Iteration 4021 / 4900) loss: nan\n",
      "(Iteration 4031 / 4900) loss: nan\n",
      "(Iteration 4041 / 4900) loss: nan\n",
      "(Iteration 4051 / 4900) loss: nan\n",
      "(Iteration 4061 / 4900) loss: nan\n",
      "(Iteration 4071 / 4900) loss: nan\n",
      "(Iteration 4081 / 4900) loss: nan\n",
      "(Iteration 4091 / 4900) loss: nan\n",
      "(Iteration 4101 / 4900) loss: nan\n",
      "(Iteration 4111 / 4900) loss: nan\n",
      "(Iteration 4121 / 4900) loss: nan\n",
      "(Iteration 4131 / 4900) loss: nan\n",
      "(Iteration 4141 / 4900) loss: nan\n",
      "(Iteration 4151 / 4900) loss: nan\n",
      "(Iteration 4161 / 4900) loss: nan\n",
      "(Iteration 4171 / 4900) loss: nan\n",
      "(Iteration 4181 / 4900) loss: nan\n",
      "(Iteration 4191 / 4900) loss: nan\n",
      "(Iteration 4201 / 4900) loss: nan\n",
      "(Iteration 4211 / 4900) loss: nan\n",
      "(Iteration 4221 / 4900) loss: nan\n",
      "(Iteration 4231 / 4900) loss: nan\n",
      "(Iteration 4241 / 4900) loss: nan\n",
      "(Iteration 4251 / 4900) loss: nan\n",
      "(Iteration 4261 / 4900) loss: nan\n",
      "(Iteration 4271 / 4900) loss: nan\n",
      "(Iteration 4281 / 4900) loss: nan\n",
      "(Iteration 4291 / 4900) loss: nan\n",
      "(Iteration 4301 / 4900) loss: nan\n",
      "(Iteration 4311 / 4900) loss: nan\n",
      "(Iteration 4321 / 4900) loss: nan\n",
      "(Iteration 4331 / 4900) loss: nan\n",
      "(Iteration 4341 / 4900) loss: nan\n",
      "(Iteration 4351 / 4900) loss: nan\n",
      "(Iteration 4361 / 4900) loss: nan\n",
      "(Iteration 4371 / 4900) loss: nan\n",
      "(Iteration 4381 / 4900) loss: nan\n",
      "(Iteration 4391 / 4900) loss: nan\n",
      "(Iteration 4401 / 4900) loss: nan\n",
      "(Epoch 9 / 10) train acc: 0.094000; val_acc: 0.087000\n",
      "(Iteration 4411 / 4900) loss: nan\n",
      "(Iteration 4421 / 4900) loss: nan\n",
      "(Iteration 4431 / 4900) loss: nan\n",
      "(Iteration 4441 / 4900) loss: nan\n",
      "(Iteration 4451 / 4900) loss: nan\n",
      "(Iteration 4461 / 4900) loss: nan\n",
      "(Iteration 4471 / 4900) loss: nan\n",
      "(Iteration 4481 / 4900) loss: nan\n",
      "(Iteration 4491 / 4900) loss: nan\n",
      "(Iteration 4501 / 4900) loss: nan\n",
      "(Iteration 4511 / 4900) loss: nan\n",
      "(Iteration 4521 / 4900) loss: nan\n",
      "(Iteration 4531 / 4900) loss: nan\n",
      "(Iteration 4541 / 4900) loss: nan\n",
      "(Iteration 4551 / 4900) loss: nan\n",
      "(Iteration 4561 / 4900) loss: nan\n",
      "(Iteration 4571 / 4900) loss: nan\n",
      "(Iteration 4581 / 4900) loss: nan\n",
      "(Iteration 4591 / 4900) loss: nan\n",
      "(Iteration 4601 / 4900) loss: nan\n",
      "(Iteration 4611 / 4900) loss: nan\n",
      "(Iteration 4621 / 4900) loss: nan\n",
      "(Iteration 4631 / 4900) loss: nan\n",
      "(Iteration 4641 / 4900) loss: nan\n",
      "(Iteration 4651 / 4900) loss: nan\n",
      "(Iteration 4661 / 4900) loss: nan\n",
      "(Iteration 4671 / 4900) loss: nan\n",
      "(Iteration 4681 / 4900) loss: nan\n",
      "(Iteration 4691 / 4900) loss: nan\n",
      "(Iteration 4701 / 4900) loss: nan\n",
      "(Iteration 4711 / 4900) loss: nan\n",
      "(Iteration 4721 / 4900) loss: nan\n",
      "(Iteration 4731 / 4900) loss: nan\n",
      "(Iteration 4741 / 4900) loss: nan\n",
      "(Iteration 4751 / 4900) loss: nan\n",
      "(Iteration 4761 / 4900) loss: nan\n",
      "(Iteration 4771 / 4900) loss: nan\n",
      "(Iteration 4781 / 4900) loss: nan\n",
      "(Iteration 4791 / 4900) loss: nan\n",
      "(Iteration 4801 / 4900) loss: nan\n",
      "(Iteration 4811 / 4900) loss: nan\n",
      "(Iteration 4821 / 4900) loss: nan\n",
      "(Iteration 4831 / 4900) loss: nan\n",
      "(Iteration 4841 / 4900) loss: nan\n",
      "(Iteration 4851 / 4900) loss: nan\n",
      "(Iteration 4861 / 4900) loss: nan\n",
      "(Iteration 4871 / 4900) loss: nan\n",
      "(Iteration 4881 / 4900) loss: nan\n",
      "(Iteration 4891 / 4900) loss: nan\n",
      "(Epoch 10 / 10) train acc: 0.098000; val_acc: 0.087000\n"
     ]
    }
   ],
   "source": [
    "model = TwoLayerNet()\n",
    "solver = None\n",
    "\n",
    "##############################################################################\n",
    "# TODO: Use a Solver instance to train a TwoLayerNet that achieves at least  #\n",
    "# 50% accuracy on the validation set.                                        #\n",
    "##############################################################################\n",
    "solver = Solver(model, data, update_rule='sgd', optim_config={'learning_rate':1e-3,},\n",
    "               lr_decay=0.95, num_epoches=20, batch_size=128, print_every=100)\n",
    "solver.train()\n",
    "##############################################################################\n",
    "#                             END OF YOUR CODE                               #\n",
    "##############################################################################"
   ]
  },
  {
   "cell_type": "code",
   "execution_count": null,
   "metadata": {
    "collapsed": true
   },
   "outputs": [],
   "source": [
    "# Run this cell to visualize training loss and train / val accuracy\n",
    "\n",
    "plt.subplot(2, 1, 1)\n",
    "plt.title('Training loss')\n",
    "plt.plot(solver.loss_history, 'o')\n",
    "plt.xlabel('Iteration')\n",
    "\n",
    "plt.subplot(2, 1, 2)\n",
    "plt.title('Accuracy')\n",
    "plt.plot(solver.train_acc_history, '-o', label='train')\n",
    "plt.plot(solver.val_acc_history, '-o', label='val')\n",
    "plt.plot([0.5] * len(solver.val_acc_history), 'k--')\n",
    "plt.xlabel('Epoch')\n",
    "plt.legend(loc='lower right')\n",
    "plt.gcf().set_size_inches(15, 12)\n",
    "plt.show()"
   ]
  },
  {
   "cell_type": "markdown",
   "metadata": {},
   "source": [
    "# Multilayer network\n",
    "Next you will implement a fully-connected network with an arbitrary number of hidden layers.\n",
    "\n",
    "Read through the `FullyConnectedNet` class in the file `cs231n/classifiers/fc_net.py`.\n",
    "\n",
    "Implement the initialization, the forward pass, and the backward pass. For the moment don't worry about implementing dropout or batch/layer normalization; we will add those features soon."
   ]
  },
  {
   "cell_type": "markdown",
   "metadata": {},
   "source": [
    "## Initial loss and gradient check"
   ]
  },
  {
   "cell_type": "markdown",
   "metadata": {},
   "source": [
    "As a sanity check, run the following to check the initial loss and to gradient check the network both with and without regularization. Do the initial losses seem reasonable?\n",
    "\n",
    "For gradient checking, you should expect to see errors around 1e-7 or less."
   ]
  },
  {
   "cell_type": "code",
   "execution_count": null,
   "metadata": {
    "collapsed": true
   },
   "outputs": [],
   "source": [
    "np.random.seed(231)\n",
    "N, D, H1, H2, C = 2, 15, 20, 30, 10\n",
    "X = np.random.randn(N, D)\n",
    "y = np.random.randint(C, size=(N,))\n",
    "\n",
    "for reg in [0, 3.14]:\n",
    "  print('Running check with reg = ', reg)\n",
    "  model = FullyConnectedNet([H1, H2], input_dim=D, num_classes=C,\n",
    "                            reg=reg, weight_scale=5e-2, dtype=np.float64)\n",
    "\n",
    "  loss, grads = model.loss(X, y)\n",
    "  print('Initial loss: ', loss)\n",
    "  \n",
    "  # Most of the errors should be on the order of e-7 or smaller.   \n",
    "  # NOTE: It is fine however to see an error for W2 on the order of e-5\n",
    "  # for the check when reg = 0.0\n",
    "  for name in sorted(grads):\n",
    "    f = lambda _: model.loss(X, y)[0]\n",
    "    grad_num = eval_numerical_gradient(f, model.params[name], verbose=False, h=1e-5)\n",
    "    print('%s relative error: %.2e' % (name, rel_error(grad_num, grads[name])))"
   ]
  },
  {
   "cell_type": "markdown",
   "metadata": {},
   "source": [
    "As another sanity check, make sure you can overfit a small dataset of 50 images. First we will try a three-layer network with 100 units in each hidden layer. In the following cell, tweak the learning rate and initialization scale to overfit and achieve 100% training accuracy within 20 epochs."
   ]
  },
  {
   "cell_type": "code",
   "execution_count": null,
   "metadata": {
    "collapsed": true,
    "scrolled": false
   },
   "outputs": [],
   "source": [
    "# TODO: Use a three-layer Net to overfit 50 training examples by \n",
    "# tweaking just the learning rate and initialization scale.\n",
    "\n",
    "num_train = 50\n",
    "small_data = {\n",
    "  'X_train': data['X_train'][:num_train],\n",
    "  'y_train': data['y_train'][:num_train],\n",
    "  'X_val': data['X_val'],\n",
    "  'y_val': data['y_val'],\n",
    "}\n",
    "\n",
    "weight_scale = 1e-2\n",
    "learning_rate = 1e-4\n",
    "model = FullyConnectedNet([100, 100],\n",
    "              weight_scale=weight_scale, dtype=np.float64)\n",
    "solver = Solver(model, small_data,\n",
    "                print_every=10, num_epochs=20, batch_size=25,\n",
    "                update_rule='sgd',\n",
    "                optim_config={\n",
    "                  'learning_rate': learning_rate,\n",
    "                }\n",
    "         )\n",
    "solver.train()\n",
    "\n",
    "plt.plot(solver.loss_history, 'o')\n",
    "plt.title('Training loss history')\n",
    "plt.xlabel('Iteration')\n",
    "plt.ylabel('Training loss')\n",
    "plt.show()"
   ]
  },
  {
   "cell_type": "markdown",
   "metadata": {},
   "source": [
    "Now try to use a five-layer network with 100 units on each layer to overfit 50 training examples. Again you will have to adjust the learning rate and weight initialization, but you should be able to achieve 100% training accuracy within 20 epochs."
   ]
  },
  {
   "cell_type": "code",
   "execution_count": null,
   "metadata": {
    "collapsed": true
   },
   "outputs": [],
   "source": [
    "# TODO: Use a five-layer Net to overfit 50 training examples by \n",
    "# tweaking just the learning rate and initialization scale.\n",
    "\n",
    "num_train = 50\n",
    "small_data = {\n",
    "  'X_train': data['X_train'][:num_train],\n",
    "  'y_train': data['y_train'][:num_train],\n",
    "  'X_val': data['X_val'],\n",
    "  'y_val': data['y_val'],\n",
    "}\n",
    "\n",
    "learning_rate = 2e-3\n",
    "weight_scale = 1e-5\n",
    "model = FullyConnectedNet([100, 100, 100, 100],\n",
    "                weight_scale=weight_scale, dtype=np.float64)\n",
    "solver = Solver(model, small_data,\n",
    "                print_every=10, num_epochs=20, batch_size=25,\n",
    "                update_rule='sgd',\n",
    "                optim_config={\n",
    "                  'learning_rate': learning_rate,\n",
    "                }\n",
    "         )\n",
    "solver.train()\n",
    "\n",
    "plt.plot(solver.loss_history, 'o')\n",
    "plt.title('Training loss history')\n",
    "plt.xlabel('Iteration')\n",
    "plt.ylabel('Training loss')\n",
    "plt.show()"
   ]
  },
  {
   "cell_type": "markdown",
   "metadata": {},
   "source": [
    "## Inline Question 2: \n",
    "Did you notice anything about the comparative difficulty of training the three-layer net vs training the five layer net? In particular, based on your experience, which network seemed more sensitive to the initialization scale? Why do you think that is the case?"
   ]
  },
  {
   "cell_type": "markdown",
   "metadata": {},
   "source": [
    "## Answer:\n",
    "[FILL THIS IN]\n"
   ]
  },
  {
   "cell_type": "markdown",
   "metadata": {},
   "source": [
    "# Update rules\n",
    "So far we have used vanilla stochastic gradient descent (SGD) as our update rule. More sophisticated update rules can make it easier to train deep networks. We will implement a few of the most commonly used update rules and compare them to vanilla SGD."
   ]
  },
  {
   "cell_type": "markdown",
   "metadata": {},
   "source": [
    "# SGD+Momentum\n",
    "Stochastic gradient descent with momentum is a widely used update rule that tends to make deep networks converge faster than vanilla stochastic gradient descent. See the Momentum Update section at http://cs231n.github.io/neural-networks-3/#sgd for more information.\n",
    "\n",
    "Open the file `cs231n/optim.py` and read the documentation at the top of the file to make sure you understand the API. Implement the SGD+momentum update rule in the function `sgd_momentum` and run the following to check your implementation. You should see errors less than e-8."
   ]
  },
  {
   "cell_type": "code",
   "execution_count": null,
   "metadata": {
    "collapsed": true
   },
   "outputs": [],
   "source": [
    "from cs231n.optim import sgd_momentum\n",
    "\n",
    "N, D = 4, 5\n",
    "w = np.linspace(-0.4, 0.6, num=N*D).reshape(N, D)\n",
    "dw = np.linspace(-0.6, 0.4, num=N*D).reshape(N, D)\n",
    "v = np.linspace(0.6, 0.9, num=N*D).reshape(N, D)\n",
    "\n",
    "config = {'learning_rate': 1e-3, 'velocity': v}\n",
    "next_w, _ = sgd_momentum(w, dw, config=config)\n",
    "\n",
    "expected_next_w = np.asarray([\n",
    "  [ 0.1406,      0.20738947,  0.27417895,  0.34096842,  0.40775789],\n",
    "  [ 0.47454737,  0.54133684,  0.60812632,  0.67491579,  0.74170526],\n",
    "  [ 0.80849474,  0.87528421,  0.94207368,  1.00886316,  1.07565263],\n",
    "  [ 1.14244211,  1.20923158,  1.27602105,  1.34281053,  1.4096    ]])\n",
    "expected_velocity = np.asarray([\n",
    "  [ 0.5406,      0.55475789,  0.56891579, 0.58307368,  0.59723158],\n",
    "  [ 0.61138947,  0.62554737,  0.63970526,  0.65386316,  0.66802105],\n",
    "  [ 0.68217895,  0.69633684,  0.71049474,  0.72465263,  0.73881053],\n",
    "  [ 0.75296842,  0.76712632,  0.78128421,  0.79544211,  0.8096    ]])\n",
    "\n",
    "# Should see relative errors around e-8 or less\n",
    "print('next_w error: ', rel_error(next_w, expected_next_w))\n",
    "print('velocity error: ', rel_error(expected_velocity, config['velocity']))"
   ]
  },
  {
   "cell_type": "markdown",
   "metadata": {},
   "source": [
    "Once you have done so, run the following to train a six-layer network with both SGD and SGD+momentum. You should see the SGD+momentum update rule converge faster."
   ]
  },
  {
   "cell_type": "code",
   "execution_count": null,
   "metadata": {
    "collapsed": true,
    "scrolled": false
   },
   "outputs": [],
   "source": [
    "num_train = 4000\n",
    "small_data = {\n",
    "  'X_train': data['X_train'][:num_train],\n",
    "  'y_train': data['y_train'][:num_train],\n",
    "  'X_val': data['X_val'],\n",
    "  'y_val': data['y_val'],\n",
    "}\n",
    "\n",
    "solvers = {}\n",
    "\n",
    "for update_rule in ['sgd', 'sgd_momentum']:\n",
    "  print('running with ', update_rule)\n",
    "  model = FullyConnectedNet([100, 100, 100, 100, 100], weight_scale=5e-2)\n",
    "\n",
    "  solver = Solver(model, small_data,\n",
    "                  num_epochs=5, batch_size=100,\n",
    "                  update_rule=update_rule,\n",
    "                  optim_config={\n",
    "                    'learning_rate': 1e-2,\n",
    "                  },\n",
    "                  verbose=True)\n",
    "  solvers[update_rule] = solver\n",
    "  solver.train()\n",
    "  print()\n",
    "\n",
    "plt.subplot(3, 1, 1)\n",
    "plt.title('Training loss')\n",
    "plt.xlabel('Iteration')\n",
    "\n",
    "plt.subplot(3, 1, 2)\n",
    "plt.title('Training accuracy')\n",
    "plt.xlabel('Epoch')\n",
    "\n",
    "plt.subplot(3, 1, 3)\n",
    "plt.title('Validation accuracy')\n",
    "plt.xlabel('Epoch')\n",
    "\n",
    "for update_rule, solver in list(solvers.items()):\n",
    "  plt.subplot(3, 1, 1)\n",
    "  plt.plot(solver.loss_history, 'o', label=update_rule)\n",
    "  \n",
    "  plt.subplot(3, 1, 2)\n",
    "  plt.plot(solver.train_acc_history, '-o', label=update_rule)\n",
    "\n",
    "  plt.subplot(3, 1, 3)\n",
    "  plt.plot(solver.val_acc_history, '-o', label=update_rule)\n",
    "  \n",
    "for i in [1, 2, 3]:\n",
    "  plt.subplot(3, 1, i)\n",
    "  plt.legend(loc='upper center', ncol=4)\n",
    "plt.gcf().set_size_inches(15, 15)\n",
    "plt.show()"
   ]
  },
  {
   "cell_type": "markdown",
   "metadata": {},
   "source": [
    "# RMSProp and Adam\n",
    "RMSProp [1] and Adam [2] are update rules that set per-parameter learning rates by using a running average of the second moments of gradients.\n",
    "\n",
    "In the file `cs231n/optim.py`, implement the RMSProp update rule in the `rmsprop` function and implement the Adam update rule in the `adam` function, and check your implementations using the tests below.\n",
    "\n",
    "**NOTE:** Please implement the _complete_ Adam update rule (with the bias correction mechanism), not the first simplified version mentioned in the course notes. \n",
    "\n",
    "[1] Tijmen Tieleman and Geoffrey Hinton. \"Lecture 6.5-rmsprop: Divide the gradient by a running average of its recent magnitude.\" COURSERA: Neural Networks for Machine Learning 4 (2012).\n",
    "\n",
    "[2] Diederik Kingma and Jimmy Ba, \"Adam: A Method for Stochastic Optimization\", ICLR 2015."
   ]
  },
  {
   "cell_type": "code",
   "execution_count": null,
   "metadata": {
    "collapsed": true
   },
   "outputs": [],
   "source": [
    "# Test RMSProp implementation\n",
    "from cs231n.optim import rmsprop\n",
    "\n",
    "N, D = 4, 5\n",
    "w = np.linspace(-0.4, 0.6, num=N*D).reshape(N, D)\n",
    "dw = np.linspace(-0.6, 0.4, num=N*D).reshape(N, D)\n",
    "cache = np.linspace(0.6, 0.9, num=N*D).reshape(N, D)\n",
    "\n",
    "config = {'learning_rate': 1e-2, 'cache': cache}\n",
    "next_w, _ = rmsprop(w, dw, config=config)\n",
    "\n",
    "expected_next_w = np.asarray([\n",
    "  [-0.39223849, -0.34037513, -0.28849239, -0.23659121, -0.18467247],\n",
    "  [-0.132737,   -0.08078555, -0.02881884,  0.02316247,  0.07515774],\n",
    "  [ 0.12716641,  0.17918792,  0.23122175,  0.28326742,  0.33532447],\n",
    "  [ 0.38739248,  0.43947102,  0.49155973,  0.54365823,  0.59576619]])\n",
    "expected_cache = np.asarray([\n",
    "  [ 0.5976,      0.6126277,   0.6277108,   0.64284931,  0.65804321],\n",
    "  [ 0.67329252,  0.68859723,  0.70395734,  0.71937285,  0.73484377],\n",
    "  [ 0.75037008,  0.7659518,   0.78158892,  0.79728144,  0.81302936],\n",
    "  [ 0.82883269,  0.84469141,  0.86060554,  0.87657507,  0.8926    ]])\n",
    "\n",
    "# You should see relative errors around e-7 or less\n",
    "print('next_w error: ', rel_error(expected_next_w, next_w))\n",
    "print('cache error: ', rel_error(expected_cache, config['cache']))"
   ]
  },
  {
   "cell_type": "code",
   "execution_count": null,
   "metadata": {
    "collapsed": true
   },
   "outputs": [],
   "source": [
    "# Test Adam implementation\n",
    "from cs231n.optim import adam\n",
    "\n",
    "N, D = 4, 5\n",
    "w = np.linspace(-0.4, 0.6, num=N*D).reshape(N, D)\n",
    "dw = np.linspace(-0.6, 0.4, num=N*D).reshape(N, D)\n",
    "m = np.linspace(0.6, 0.9, num=N*D).reshape(N, D)\n",
    "v = np.linspace(0.7, 0.5, num=N*D).reshape(N, D)\n",
    "\n",
    "config = {'learning_rate': 1e-2, 'm': m, 'v': v, 't': 5}\n",
    "next_w, _ = adam(w, dw, config=config)\n",
    "\n",
    "expected_next_w = np.asarray([\n",
    "  [-0.40094747, -0.34836187, -0.29577703, -0.24319299, -0.19060977],\n",
    "  [-0.1380274,  -0.08544591, -0.03286534,  0.01971428,  0.0722929],\n",
    "  [ 0.1248705,   0.17744702,  0.23002243,  0.28259667,  0.33516969],\n",
    "  [ 0.38774145,  0.44031188,  0.49288093,  0.54544852,  0.59801459]])\n",
    "expected_v = np.asarray([\n",
    "  [ 0.69966,     0.68908382,  0.67851319,  0.66794809,  0.65738853,],\n",
    "  [ 0.64683452,  0.63628604,  0.6257431,   0.61520571,  0.60467385,],\n",
    "  [ 0.59414753,  0.58362676,  0.57311152,  0.56260183,  0.55209767,],\n",
    "  [ 0.54159906,  0.53110598,  0.52061845,  0.51013645,  0.49966,   ]])\n",
    "expected_m = np.asarray([\n",
    "  [ 0.48,        0.49947368,  0.51894737,  0.53842105,  0.55789474],\n",
    "  [ 0.57736842,  0.59684211,  0.61631579,  0.63578947,  0.65526316],\n",
    "  [ 0.67473684,  0.69421053,  0.71368421,  0.73315789,  0.75263158],\n",
    "  [ 0.77210526,  0.79157895,  0.81105263,  0.83052632,  0.85      ]])\n",
    "\n",
    "# You should see relative errors around e-7 or less\n",
    "print('next_w error: ', rel_error(expected_next_w, next_w))\n",
    "print('v error: ', rel_error(expected_v, config['v']))\n",
    "print('m error: ', rel_error(expected_m, config['m']))"
   ]
  },
  {
   "cell_type": "markdown",
   "metadata": {},
   "source": [
    "Once you have debugged your RMSProp and Adam implementations, run the following to train a pair of deep networks using these new update rules:"
   ]
  },
  {
   "cell_type": "code",
   "execution_count": null,
   "metadata": {
    "collapsed": true
   },
   "outputs": [],
   "source": [
    "learning_rates = {'rmsprop': 1e-4, 'adam': 1e-3}\n",
    "for update_rule in ['adam', 'rmsprop']:\n",
    "  print('running with ', update_rule)\n",
    "  model = FullyConnectedNet([100, 100, 100, 100, 100], weight_scale=5e-2)\n",
    "\n",
    "  solver = Solver(model, small_data,\n",
    "                  num_epochs=5, batch_size=100,\n",
    "                  update_rule=update_rule,\n",
    "                  optim_config={\n",
    "                    'learning_rate': learning_rates[update_rule]\n",
    "                  },\n",
    "                  verbose=True)\n",
    "  solvers[update_rule] = solver\n",
    "  solver.train()\n",
    "  print()\n",
    "\n",
    "plt.subplot(3, 1, 1)\n",
    "plt.title('Training loss')\n",
    "plt.xlabel('Iteration')\n",
    "\n",
    "plt.subplot(3, 1, 2)\n",
    "plt.title('Training accuracy')\n",
    "plt.xlabel('Epoch')\n",
    "\n",
    "plt.subplot(3, 1, 3)\n",
    "plt.title('Validation accuracy')\n",
    "plt.xlabel('Epoch')\n",
    "\n",
    "for update_rule, solver in list(solvers.items()):\n",
    "  plt.subplot(3, 1, 1)\n",
    "  plt.plot(solver.loss_history, 'o', label=update_rule)\n",
    "  \n",
    "  plt.subplot(3, 1, 2)\n",
    "  plt.plot(solver.train_acc_history, '-o', label=update_rule)\n",
    "\n",
    "  plt.subplot(3, 1, 3)\n",
    "  plt.plot(solver.val_acc_history, '-o', label=update_rule)\n",
    "  \n",
    "for i in [1, 2, 3]:\n",
    "  plt.subplot(3, 1, i)\n",
    "  plt.legend(loc='upper center', ncol=4)\n",
    "plt.gcf().set_size_inches(15, 15)\n",
    "plt.show()"
   ]
  },
  {
   "cell_type": "markdown",
   "metadata": {},
   "source": [
    "## Inline Question 3:\n",
    "\n",
    "AdaGrad, like Adam, is a per-parameter optimization method that uses the following update rule:\n",
    "\n",
    "```\n",
    "cache += dw**2\n",
    "w += - learning_rate * dw / (np.sqrt(cache) + eps)\n",
    "```\n",
    "\n",
    "John notices that when he was training a network with AdaGrad that the updates became very small, and that his network was learning slowly. Using your knowledge of the AdaGrad update rule, why do you think the updates would become very small? Would Adam have the same issue?\n"
   ]
  },
  {
   "cell_type": "markdown",
   "metadata": {},
   "source": [
    "## Answer: \n"
   ]
  },
  {
   "cell_type": "markdown",
   "metadata": {},
   "source": [
    "# Train a good model!\n",
    "Train the best fully-connected model that you can on CIFAR-10, storing your best model in the `best_model` variable. We require you to get at least 50% accuracy on the validation set using a fully-connected net.\n",
    "\n",
    "If you are careful it should be possible to get accuracies above 55%, but we don't require it for this part and won't assign extra credit for doing so. Later in the assignment we will ask you to train the best convolutional network that you can on CIFAR-10, and we would prefer that you spend your effort working on convolutional nets rather than fully-connected nets.\n",
    "\n",
    "You might find it useful to complete the `BatchNormalization.ipynb` and `Dropout.ipynb` notebooks before completing this part, since those techniques can help you train powerful models."
   ]
  },
  {
   "cell_type": "code",
   "execution_count": null,
   "metadata": {
    "collapsed": true,
    "scrolled": false
   },
   "outputs": [],
   "source": [
    "best_model = None\n",
    "################################################################################\n",
    "# TODO: Train the best FullyConnectedNet that you can on CIFAR-10. You might   #\n",
    "# find batch/layer normalization and dropout useful. Store your best model in  #\n",
    "# the best_model variable.                                                     #\n",
    "################################################################################\n",
    "pass\n",
    "################################################################################\n",
    "#                              END OF YOUR CODE                                #\n",
    "################################################################################"
   ]
  },
  {
   "cell_type": "markdown",
   "metadata": {},
   "source": [
    "# Test your model!\n",
    "Run your best model on the validation and test sets. You should achieve above 50% accuracy on the validation set."
   ]
  },
  {
   "cell_type": "code",
   "execution_count": null,
   "metadata": {
    "collapsed": true
   },
   "outputs": [],
   "source": [
    "y_test_pred = np.argmax(best_model.loss(data['X_test']), axis=1)\n",
    "y_val_pred = np.argmax(best_model.loss(data['X_val']), axis=1)\n",
    "print('Validation set accuracy: ', (y_val_pred == data['y_val']).mean())\n",
    "print('Test set accuracy: ', (y_test_pred == data['y_test']).mean())"
   ]
  }
 ],
 "metadata": {
  "kernelspec": {
   "display_name": "Python 3",
   "language": "python",
   "name": "python3"
  },
  "language_info": {
   "codemirror_mode": {
    "name": "ipython",
    "version": 3
   },
   "file_extension": ".py",
   "mimetype": "text/x-python",
   "name": "python",
   "nbconvert_exporter": "python",
   "pygments_lexer": "ipython3",
   "version": "3.6.5"
  }
 },
 "nbformat": 4,
 "nbformat_minor": 2
}
